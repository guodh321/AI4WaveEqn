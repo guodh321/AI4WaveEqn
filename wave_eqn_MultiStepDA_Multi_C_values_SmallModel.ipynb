{
 "cells": [
  {
   "cell_type": "markdown",
   "metadata": {},
   "source": [
    "### Initial settings"
   ]
  },
  {
   "cell_type": "code",
   "execution_count": 1,
   "metadata": {},
   "outputs": [
    {
     "name": "stderr",
     "output_type": "stream",
     "text": [
      "/home/dg321/.local/lib/python3.8/site-packages/tqdm/auto.py:22: TqdmWarning: IProgress not found. Please update jupyter and ipywidgets. See https://ipywidgets.readthedocs.io/en/stable/user_install.html\n",
      "  from .autonotebook import tqdm as notebook_tqdm\n"
     ]
    }
   ],
   "source": [
    "#-- Import general libraries\n",
    "import os\n",
    "# os.environ['TF_XLA_FLAGS'] = '--tf_xla_enable_xla_devices' ## enable xla devices # Comment out this line if runing on GPU cluster\n",
    "import numpy as np \n",
    "import pandas as pd\n",
    "import time \n",
    "import math\n",
    "import torch\n",
    "import torch.nn as nn\n",
    "import torch.nn.functional as F\n",
    "import matplotlib.pyplot as plt\n",
    "\n",
    "import wandb"
   ]
  },
  {
   "cell_type": "code",
   "execution_count": 2,
   "metadata": {},
   "outputs": [],
   "source": [
    "import os\n",
    "os.environ[\"CUDA_VISIBLE_DEVICES\"] = f\"{5}\""
   ]
  },
  {
   "cell_type": "code",
   "execution_count": 3,
   "metadata": {},
   "outputs": [
    {
     "name": "stdout",
     "output_type": "stream",
     "text": [
      "Is GPU available? True\n",
      "GPU Device Name: GeForce RTX 2080 Ti\n",
      "GPU Device Index: 0\n"
     ]
    }
   ],
   "source": [
    "# Check if GPU is available \n",
    "is_gpu = torch.cuda.is_available()\n",
    "device = torch.device(\"cuda\" if is_gpu else \"cpu\")\n",
    "print(f\"Is GPU available? {is_gpu}\")\n",
    "\n",
    "# If GPU is available, print additional information\n",
    "if is_gpu:\n",
    "    current_device = torch.cuda.current_device()\n",
    "    device_name = torch.cuda.get_device_name(current_device)\n",
    "    print(f\"GPU Device Name: {device_name}\")\n",
    "    print(f\"GPU Device Index: {current_device}\")"
   ]
  },
  {
   "cell_type": "markdown",
   "metadata": {},
   "source": [
    "#### Filters"
   ]
  },
  {
   "cell_type": "code",
   "execution_count": 4,
   "metadata": {},
   "outputs": [
    {
     "name": "stdout",
     "output_type": "stream",
     "text": [
      "tensor([[ 0., -1.,  0.],\n",
      "        [-1.,  4., -1.],\n",
      "        [ 0., -1.,  0.]])\n",
      "torch.Size([3, 3])\n"
     ]
    }
   ],
   "source": [
    "# # # ################################### # # #\n",
    "# # # ######   Numerial parameters ###### # # #\n",
    "# # # ################################### # # #\n",
    "c = 1  # speed of sound 1m/s\n",
    "courant_number = 0.1\n",
    "\n",
    "# # # ################################### # # #\n",
    "# # # ######    Linear Filter      ###### # # #\n",
    "# # # ################################### # # #\n",
    "\n",
    "\n",
    "\n",
    "\n",
    "filter = torch.tensor([[0.0, -1.0, 0.0],\n",
    "       [-1.0, 4.0, -1.0],\n",
    "       [0.0, -1.0, 0.0]])\n",
    "\n",
    "\n",
    "\n",
    "advection_operator_x = torch.tensor([[0.0, 0.0, 0.0],\n",
    "       [0.5, 0.0, -0.5],\n",
    "       [0.0, 0.0, 0.0]])\n",
    "\n",
    "advection_operator_y = torch.tensor([[0.0, -0.5, 0.0],\n",
    "       [0.0, 0.0, 0.0],\n",
    "       [0.0, 0.5, 0.0]])\n",
    "\n",
    "print(filter)\n",
    "print(filter.shape)"
   ]
  },
  {
   "cell_type": "markdown",
   "metadata": {},
   "source": [
    "##### 7*7 Cubic"
   ]
  },
  {
   "cell_type": "code",
   "execution_count": 5,
   "metadata": {},
   "outputs": [
    {
     "name": "stdout",
     "output_type": "stream",
     "text": [
      "[[-1.09758265e-03  6.63881977e-03 -3.18743335e-02  4.14148596e-03\n",
      "  -3.18743335e-02  6.63881977e-03 -1.09758265e-03]\n",
      " [ 6.63881977e-03 -3.45538571e-02  1.36055812e-01  1.86846783e-01\n",
      "   1.36055812e-01 -3.45538571e-02  6.63881977e-03]\n",
      " [-3.18743335e-02  1.36055812e-01 -3.50937611e-01 -2.02603982e+00\n",
      "  -3.50937611e-01  1.36055812e-01 -3.18743335e-02]\n",
      " [ 4.14148596e-03  1.86846783e-01 -2.02603982e+00  8.00000000e+00\n",
      "  -2.02603982e+00  1.86846783e-01  4.14148596e-03]\n",
      " [-3.18743335e-02  1.36055812e-01 -3.50937611e-01 -2.02603982e+00\n",
      "  -3.50937611e-01  1.36055812e-01 -3.18743335e-02]\n",
      " [ 6.63881977e-03 -3.45538571e-02  1.36055812e-01  1.86846783e-01\n",
      "   1.36055812e-01 -3.45538571e-02  6.63881977e-03]\n",
      " [-1.09758265e-03  6.63881977e-03 -3.18743335e-02  4.14148596e-03\n",
      "  -3.18743335e-02  6.63881977e-03 -1.09758265e-03]]\n",
      "torch.Size([7, 7])\n"
     ]
    }
   ],
   "source": [
    "# 7*7\n",
    "data_str = \"\"\"-1.0975826519729831E-003   6.6388197653750505E-003  -3.1874333451830800E-002   4.1414859580519367E-003  -3.1874333451830786E-002   6.6388197653750435E-003  -1.0975826519729816E-003\n",
    " 6.6388197653750505E-003  -3.4553857092072565E-002  0.13605581230003569       0.18684678279416977       0.13605581230003563       -3.4553857092072537E-002   6.6388197653750418E-003\n",
    "-3.1874333451830800E-002  0.13605581230003572      -0.35093761109136207       -2.0260398151439736      -0.35093761109136201       0.13605581230003563       -3.1874333451830779E-002\n",
    " 4.1414859580518951E-003  0.18684678279416983       -2.0260398151439745        8.0000000000000000       -2.0260398151439745       0.18684678279416983        4.1414859580518951E-003\n",
    "-3.1874333451830786E-002  0.13605581230003563      -0.35093761109136201       -2.0260398151439736      -0.35093761109136201       0.13605581230003569       -3.1874333451830800E-002\n",
    " 6.6388197653750418E-003  -3.4553857092072537E-002  0.13605581230003563       0.18684678279416977       0.13605581230003566       -3.4553857092072565E-002   6.6388197653750505E-003\n",
    "-1.0975826519729816E-003   6.6388197653750435E-003  -3.1874333451830779E-002   4.1414859580519367E-003  -3.1874333451830807E-002   6.6388197653750505E-003  -1.0975826519729831E-003\"\"\"\n",
    "\n",
    "# Convert the string to a 2D NumPy array\n",
    "data_array = np.array([list(map(float, line.split())) for line in data_str.split('\\n')])\n",
    "\n",
    "# Reshape the array into a 9x9 tensor\n",
    "tensor = data_array.reshape(7, 7)\n",
    "\n",
    "# Print the generated tensor\n",
    "print(tensor)\n",
    "\n",
    "filter = torch.FloatTensor(tensor*1)\n",
    "\n",
    "print(filter.shape)"
   ]
  },
  {
   "cell_type": "markdown",
   "metadata": {},
   "source": [
    "#### New initial conditions - Gaussian Distribution"
   ]
  },
  {
   "cell_type": "code",
   "execution_count": 6,
   "metadata": {},
   "outputs": [
    {
     "data": {
      "image/png": "[encoded data removed]",
      "text/plain": [
       "<Figure size 1296x432 with 4 Axes>"
      ]
     },
     "metadata": {
      "needs_background": "light"
     },
     "output_type": "display_data"
    }
   ],
   "source": [
    "# Specify the size of the tensor\n",
    "xysize = 25\n",
    "\n",
    "# Create a meshgrid\n",
    "x_values = np.linspace(0, 1, xysize)\n",
    "y_values = np.linspace(0, 1, xysize)\n",
    "x, y = np.meshgrid(x_values, y_values)\n",
    "\n",
    "# Convert NumPy arrays to PyTorch tensors with float type\n",
    "x_tensor = torch.tensor(x, dtype=torch.float32)\n",
    "y_tensor = torch.tensor(y, dtype=torch.float32)\n",
    "\n",
    "# Equation parameters\n",
    "sqrt2 = np.sqrt(2)\n",
    "pi = np.pi\n",
    "\n",
    "# Define the time tensors for t = 0, 1, and 2\n",
    "time_tensor_t0 = torch.tensor(0, dtype=torch.float32)\n",
    "time_tensor_t1 = torch.tensor(1, dtype=torch.float32)\n",
    "\n",
    "# Function to create 2D Gaussian distribution\n",
    "def gaussian2d(x, y, mu_x, mu_y, sigma_x, sigma_y):\n",
    "    exponent = -((x - mu_x)**2 / (2 * sigma_x**2) + (y - mu_y)**2 / (2 * sigma_y**2))\n",
    "    return torch.exp(exponent)\n",
    "\n",
    "# Parameters for Gaussian distributions\n",
    "mu_x = 0.5\n",
    "mu_y = 0.5\n",
    "sigma_x = 0.005\n",
    "sigma_y = 0.005\n",
    "\n",
    "# Evaluate the Gaussian distributions at t = 0, 1, and 2\n",
    "t0_values = gaussian2d(x_tensor, y_tensor, mu_x, mu_y, sigma_x, sigma_y)\n",
    "t1_values = gaussian2d(x_tensor, y_tensor, mu_x, mu_y, sigma_x, sigma_y) * torch.cos(time_tensor_t1)\n",
    "\n",
    "# Stack the tensors along a new dimension to create 3D tensors\n",
    "status_t0 = t0_values\n",
    "status_t1 = t1_values\n",
    "\n",
    "# Plot the tensors\n",
    "plt.figure(figsize=(18, 6))\n",
    "\n",
    "# Plot at t = 0\n",
    "plt.subplot(1, 2, 1)\n",
    "plt.imshow(status_t0.numpy(), cmap='viridis', interpolation='none')\n",
    "plt.title('Tensor at t = 0')\n",
    "plt.colorbar()\n",
    "\n",
    "# Plot at t = 1\n",
    "plt.subplot(1, 2, 2)\n",
    "plt.imshow(status_t1.numpy(), cmap='viridis', interpolation='none')\n",
    "plt.title('Tensor at t = 1')\n",
    "plt.colorbar()\n",
    "\n",
    "# # Plot at t = 2\n",
    "# plt.subplot(1, 3, 3)\n",
    "# plt.imshow(status_t2.numpy(), cmap='viridis', interpolation='none')\n",
    "# plt.title('Tensor at t = 2')\n",
    "# plt.colorbar()\n",
    "\n",
    "plt.show()"
   ]
  },
  {
   "cell_type": "markdown",
   "metadata": {},
   "source": [
    "#### C spead of sound"
   ]
  },
  {
   "cell_type": "code",
   "execution_count": 7,
   "metadata": {},
   "outputs": [
    {
     "data": {
      "image/png": "[encoded data removed]",
      "text/plain": [
       "<Figure size 432x432 with 2 Axes>"
      ]
     },
     "metadata": {
      "needs_background": "light"
     },
     "output_type": "display_data"
    },
    {
     "name": "stdout",
     "output_type": "stream",
     "text": [
      "tensor([[1., 1., 1., 1., 1., 1., 1., 1., 1., 1., 1., 1., 1., 1., 1., 1., 1., 1.,\n",
      "         1., 1., 1., 1., 1., 1., 1.],\n",
      "        [1., 1., 1., 1., 1., 1., 1., 1., 1., 1., 1., 1., 1., 1., 1., 1., 1., 1.,\n",
      "         1., 1., 1., 1., 1., 1., 1.],\n",
      "        [1., 1., 1., 1., 1., 1., 1., 1., 1., 1., 1., 1., 1., 1., 1., 1., 1., 1.,\n",
      "         1., 1., 1., 1., 1., 1., 1.],\n",
      "        [1., 1., 1., 1., 1., 1., 1., 1., 1., 1., 1., 1., 1., 1., 1., 1., 1., 1.,\n",
      "         1., 1., 1., 1., 1., 1., 1.],\n",
      "        [1., 1., 1., 1., 1., 1., 1., 1., 1., 1., 1., 1., 1., 1., 1., 1., 1., 1.,\n",
      "         1., 1., 1., 1., 1., 1., 1.],\n",
      "        [1., 1., 1., 1., 1., 1., 1., 1., 1., 1., 1., 1., 1., 1., 1., 1., 1., 1.,\n",
      "         1., 1., 1., 1., 1., 1., 1.],\n",
      "        [1., 1., 1., 1., 1., 1., 1., 1., 1., 1., 1., 1., 1., 1., 1., 1., 1., 1.,\n",
      "         1., 1., 1., 1., 1., 1., 1.],\n",
      "        [1., 1., 1., 1., 1., 1., 1., 1., 1., 1., 1., 1., 1., 1., 1., 1., 1., 1.,\n",
      "         1., 1., 1., 1., 1., 1., 1.],\n",
      "        [1., 1., 1., 1., 1., 1., 1., 1., 1., 1., 1., 1., 1., 1., 1., 1., 1., 1.,\n",
      "         1., 1., 1., 1., 1., 1., 1.],\n",
      "        [1., 1., 1., 1., 1., 1., 1., 1., 1., 1., 1., 1., 1., 1., 1., 1., 1., 1.,\n",
      "         1., 1., 1., 1., 1., 1., 1.],\n",
      "        [1., 1., 1., 1., 1., 1., 1., 1., 1., 1., 1., 1., 1., 1., 1., 1., 1., 1.,\n",
      "         1., 1., 1., 1., 1., 1., 1.],\n",
      "        [1., 1., 1., 1., 1., 1., 1., 1., 1., 1., 1., 1., 1., 1., 1., 1., 1., 1.,\n",
      "         1., 1., 1., 1., 1., 1., 1.],\n",
      "        [1., 1., 1., 1., 1., 1., 1., 1., 1., 1., 1., 1., 1., 1., 1., 1., 1., 1.,\n",
      "         1., 1., 1., 1., 1., 1., 1.],\n",
      "        [1., 1., 1., 1., 1., 1., 1., 1., 1., 1., 1., 1., 1., 1., 1., 1., 1., 1.,\n",
      "         1., 1., 1., 1., 1., 1., 1.],\n",
      "        [1., 1., 1., 1., 1., 1., 1., 1., 1., 1., 1., 1., 1., 1., 1., 1., 1., 1.,\n",
      "         1., 1., 1., 1., 1., 1., 1.],\n",
      "        [1., 1., 1., 1., 1., 1., 1., 1., 1., 1., 1., 1., 1., 1., 1., 1., 1., 1.,\n",
      "         1., 1., 1., 1., 1., 1., 1.],\n",
      "        [1., 1., 1., 1., 1., 1., 1., 1., 1., 1., 1., 1., 1., 1., 1., 1., 1., 1.,\n",
      "         1., 1., 1., 1., 1., 1., 1.],\n",
      "        [1., 1., 1., 1., 1., 1., 1., 1., 1., 1., 1., 1., 1., 1., 1., 1., 1., 1.,\n",
      "         1., 1., 1., 1., 1., 1., 1.],\n",
      "        [1., 1., 1., 1., 1., 1., 1., 1., 1., 1., 1., 1., 1., 1., 1., 1., 1., 1.,\n",
      "         1., 1., 1., 1., 1., 1., 1.],\n",
      "        [1., 1., 1., 1., 1., 1., 1., 1., 1., 1., 1., 1., 1., 1., 1., 1., 1., 1.,\n",
      "         1., 1., 1., 1., 1., 1., 1.],\n",
      "        [1., 1., 1., 1., 1., 1., 1., 1., 1., 1., 1., 1., 1., 1., 1., 1., 1., 1.,\n",
      "         1., 1., 1., 1., 1., 1., 1.],\n",
      "        [1., 1., 1., 1., 1., 1., 1., 1., 1., 1., 1., 1., 1., 1., 1., 1., 1., 1.,\n",
      "         1., 1., 1., 1., 1., 1., 1.],\n",
      "        [1., 1., 1., 1., 1., 1., 1., 1., 1., 1., 1., 1., 1., 1., 1., 1., 1., 1.,\n",
      "         1., 1., 1., 1., 1., 1., 1.],\n",
      "        [1., 1., 1., 1., 1., 1., 1., 1., 1., 1., 1., 1., 1., 1., 1., 1., 1., 1.,\n",
      "         1., 1., 1., 1., 1., 1., 1.],\n",
      "        [1., 1., 1., 1., 1., 1., 1., 1., 1., 1., 1., 1., 1., 1., 1., 1., 1., 1.,\n",
      "         1., 1., 1., 1., 1., 1., 1.]], device='cuda:0',\n",
      "       grad_fn=<ToCopyBackward0>)\n"
     ]
    }
   ],
   "source": [
    "c_np = np.ones((xysize, xysize))\n",
    "\n",
    "# uncomment to make the values different\n",
    "# right_half_start = xysize // 2\n",
    "# c_np[:, right_half_start:] = 2\n",
    "\n",
    "c = torch.from_numpy(c_np).float().requires_grad_()\n",
    "\n",
    "# Plot the tensor at t = 0\n",
    "plt.figure(figsize=(6, 6))\n",
    "plt.imshow(c.detach().numpy(), cmap='viridis', interpolation='none')\n",
    "plt.title('C')\n",
    "plt.colorbar()\n",
    "plt.show()\n",
    "\n",
    "c = c.to(device)\n",
    "print(c)"
   ]
  },
  {
   "cell_type": "markdown",
   "metadata": {},
   "source": [
    "#### Sigma2"
   ]
  },
  {
   "cell_type": "code",
   "execution_count": 8,
   "metadata": {},
   "outputs": [],
   "source": [
    "l = xysize/10"
   ]
  },
  {
   "cell_type": "code",
   "execution_count": 9,
   "metadata": {},
   "outputs": [],
   "source": [
    "value_origin_point = - 9 * (4-0)\n",
    "k = 400"
   ]
  },
  {
   "cell_type": "code",
   "execution_count": 10,
   "metadata": {},
   "outputs": [],
   "source": [
    "sigma2 = torch.zeros((xysize, xysize), dtype=torch.float32)"
   ]
  },
  {
   "cell_type": "code",
   "execution_count": 11,
   "metadata": {},
   "outputs": [
    {
     "name": "stdout",
     "output_type": "stream",
     "text": [
      "0.125\n"
     ]
    }
   ],
   "source": [
    "l_over_speed = (l / 1) * 0.05 \n",
    "print(l_over_speed)"
   ]
  },
  {
   "cell_type": "code",
   "execution_count": 12,
   "metadata": {},
   "outputs": [
    {
     "data": {
      "image/png": "[encoded data removed]",
      "text/plain": [
       "<Figure size 432x288 with 1 Axes>"
      ]
     },
     "metadata": {
      "needs_background": "light"
     },
     "output_type": "display_data"
    }
   ],
   "source": [
    "def create_reverse_pyramid_tensor(size, inner_square_ratio):\n",
    "    pyramid = np.zeros((size, size), dtype=np.float32)\n",
    "\n",
    "    center = size // 2\n",
    "    center_value = -16.0/(l_over_speed*l_over_speed)\n",
    "    boundary_value = 4.0/(l_over_speed*l_over_speed)\n",
    "\n",
    "    inner_square_width = int(size * inner_square_ratio)\n",
    "\n",
    "    for i in range(size):\n",
    "        for j in range(size):\n",
    "            distance_to_center = max(abs(i - center), abs(j - center))\n",
    "            \n",
    "            # Set the values for the reverse pyramid\n",
    "            pyramid[i, j] = center_value + 4.0/(l_over_speed*l_over_speed) * (distance_to_center/xysize/0.1)\n",
    "            \n",
    "            # Set the values for the inner square to 0\n",
    "            if (\n",
    "                i >= center - inner_square_width // 2 and i < center + inner_square_width // 2\n",
    "                and j >= center - inner_square_width // 2 and j < center + inner_square_width // 2\n",
    "            ):\n",
    "                pyramid[i, j] = 0.0\n",
    "\n",
    "    return pyramid\n",
    "\n",
    "# Set the size of the pyramid (choose an odd number for symmetry)\n",
    "pyramid_size = 25  # xysize = 25\n",
    "# inner_square_ratio = 9/10\n",
    "inner_square_ratio = 4/5\n",
    "\n",
    "# Create the reverse pyramid tensor with inner square values set to 0\n",
    "sigma2 = create_reverse_pyramid_tensor(pyramid_size, inner_square_ratio)\n",
    "\n",
    "# Plot the reverse pyramid tensor\n",
    "fig = plt.figure()\n",
    "ax = fig.add_subplot(111, projection='3d')\n",
    "\n",
    "x = np.arange(0, pyramid_size, 1)\n",
    "y = np.arange(0, pyramid_size, 1)\n",
    "x, y = np.meshgrid(x, y)\n",
    "\n",
    "ax.plot_surface(x, y, sigma2, cmap='viridis')\n",
    "\n",
    "ax.set_xlabel('X')\n",
    "ax.set_ylabel('Y')\n",
    "ax.set_zlabel('Value')\n",
    "ax.set_title('Reverse Pyramid Tensor with Inner Square')\n",
    "\n",
    "plt.show()\n",
    "\n",
    "sigma2 = torch.from_numpy(sigma2).to(device)"
   ]
  },
  {
   "cell_type": "code",
   "execution_count": 13,
   "metadata": {},
   "outputs": [
    {
     "name": "stdout",
     "output_type": "stream",
     "text": [
      "tensor([[204.8000, 204.8000, 204.8000, 204.8000, 204.8000, 204.8000, 204.8000,\n",
      "         204.8000, 204.8000, 204.8000, 204.8000, 204.8000, 204.8000, 204.8000,\n",
      "         204.8000, 204.8000, 204.8000, 204.8000, 204.8000, 204.8000, 204.8000,\n",
      "         204.8000, 204.8000, 204.8000, 204.8000],\n",
      "        [204.8000, 102.4000, 102.4000, 102.4000, 102.4000, 102.4000, 102.4000,\n",
      "         102.4000, 102.4000, 102.4000, 102.4000, 102.4000, 102.4000, 102.4000,\n",
      "         102.4000, 102.4000, 102.4000, 102.4000, 102.4000, 102.4000, 102.4000,\n",
      "         102.4000, 102.4000, 102.4000, 204.8000],\n",
      "        [204.8000, 102.4000,   0.0000,   0.0000,   0.0000,   0.0000,   0.0000,\n",
      "           0.0000,   0.0000,   0.0000,   0.0000,   0.0000,   0.0000,   0.0000,\n",
      "           0.0000,   0.0000,   0.0000,   0.0000,   0.0000,   0.0000,   0.0000,\n",
      "           0.0000,   0.0000, 102.4000, 204.8000],\n",
      "        [204.8000, 102.4000,   0.0000,   0.0000,   0.0000,   0.0000,   0.0000,\n",
      "           0.0000,   0.0000,   0.0000,   0.0000,   0.0000,   0.0000,   0.0000,\n",
      "           0.0000,   0.0000,   0.0000,   0.0000,   0.0000,   0.0000,   0.0000,\n",
      "           0.0000,   0.0000, 102.4000, 204.8000],\n",
      "        [204.8000, 102.4000,   0.0000,   0.0000,   0.0000,   0.0000,   0.0000,\n",
      "           0.0000,   0.0000,   0.0000,   0.0000,   0.0000,   0.0000,   0.0000,\n",
      "           0.0000,   0.0000,   0.0000,   0.0000,   0.0000,   0.0000,   0.0000,\n",
      "           0.0000,   0.0000, 102.4000, 204.8000],\n",
      "        [204.8000, 102.4000,   0.0000,   0.0000,   0.0000,   0.0000,   0.0000,\n",
      "           0.0000,   0.0000,   0.0000,   0.0000,   0.0000,   0.0000,   0.0000,\n",
      "           0.0000,   0.0000,   0.0000,   0.0000,   0.0000,   0.0000,   0.0000,\n",
      "           0.0000,   0.0000, 102.4000, 204.8000],\n",
      "        [204.8000, 102.4000,   0.0000,   0.0000,   0.0000,   0.0000,   0.0000,\n",
      "           0.0000,   0.0000,   0.0000,   0.0000,   0.0000,   0.0000,   0.0000,\n",
      "           0.0000,   0.0000,   0.0000,   0.0000,   0.0000,   0.0000,   0.0000,\n",
      "           0.0000,   0.0000, 102.4000, 204.8000],\n",
      "        [204.8000, 102.4000,   0.0000,   0.0000,   0.0000,   0.0000,   0.0000,\n",
      "           0.0000,   0.0000,   0.0000,   0.0000,   0.0000,   0.0000,   0.0000,\n",
      "           0.0000,   0.0000,   0.0000,   0.0000,   0.0000,   0.0000,   0.0000,\n",
      "           0.0000,   0.0000, 102.4000, 204.8000],\n",
      "        [204.8000, 102.4000,   0.0000,   0.0000,   0.0000,   0.0000,   0.0000,\n",
      "           0.0000,   0.0000,   0.0000,   0.0000,   0.0000,   0.0000,   0.0000,\n",
      "           0.0000,   0.0000,   0.0000,   0.0000,   0.0000,   0.0000,   0.0000,\n",
      "           0.0000,   0.0000, 102.4000, 204.8000],\n",
      "        [204.8000, 102.4000,   0.0000,   0.0000,   0.0000,   0.0000,   0.0000,\n",
      "           0.0000,   0.0000,   0.0000,   0.0000,   0.0000,   0.0000,   0.0000,\n",
      "           0.0000,   0.0000,   0.0000,   0.0000,   0.0000,   0.0000,   0.0000,\n",
      "           0.0000,   0.0000, 102.4000, 204.8000],\n",
      "        [204.8000, 102.4000,   0.0000,   0.0000,   0.0000,   0.0000,   0.0000,\n",
      "           0.0000,   0.0000,   0.0000,   0.0000,   0.0000,   0.0000,   0.0000,\n",
      "           0.0000,   0.0000,   0.0000,   0.0000,   0.0000,   0.0000,   0.0000,\n",
      "           0.0000,   0.0000, 102.4000, 204.8000],\n",
      "        [204.8000, 102.4000,   0.0000,   0.0000,   0.0000,   0.0000,   0.0000,\n",
      "           0.0000,   0.0000,   0.0000,   0.0000,   0.0000,   0.0000,   0.0000,\n",
      "           0.0000,   0.0000,   0.0000,   0.0000,   0.0000,   0.0000,   0.0000,\n",
      "           0.0000,   0.0000, 102.4000, 204.8000],\n",
      "        [204.8000, 102.4000,   0.0000,   0.0000,   0.0000,   0.0000,   0.0000,\n",
      "           0.0000,   0.0000,   0.0000,   0.0000,   0.0000,   0.0000,   0.0000,\n",
      "           0.0000,   0.0000,   0.0000,   0.0000,   0.0000,   0.0000,   0.0000,\n",
      "           0.0000,   0.0000, 102.4000, 204.8000],\n",
      "        [204.8000, 102.4000,   0.0000,   0.0000,   0.0000,   0.0000,   0.0000,\n",
      "           0.0000,   0.0000,   0.0000,   0.0000,   0.0000,   0.0000,   0.0000,\n",
      "           0.0000,   0.0000,   0.0000,   0.0000,   0.0000,   0.0000,   0.0000,\n",
      "           0.0000,   0.0000, 102.4000, 204.8000],\n",
      "        [204.8000, 102.4000,   0.0000,   0.0000,   0.0000,   0.0000,   0.0000,\n",
      "           0.0000,   0.0000,   0.0000,   0.0000,   0.0000,   0.0000,   0.0000,\n",
      "           0.0000,   0.0000,   0.0000,   0.0000,   0.0000,   0.0000,   0.0000,\n",
      "           0.0000,   0.0000, 102.4000, 204.8000],\n",
      "        [204.8000, 102.4000,   0.0000,   0.0000,   0.0000,   0.0000,   0.0000,\n",
      "           0.0000,   0.0000,   0.0000,   0.0000,   0.0000,   0.0000,   0.0000,\n",
      "           0.0000,   0.0000,   0.0000,   0.0000,   0.0000,   0.0000,   0.0000,\n",
      "           0.0000,   0.0000, 102.4000, 204.8000],\n",
      "        [204.8000, 102.4000,   0.0000,   0.0000,   0.0000,   0.0000,   0.0000,\n",
      "           0.0000,   0.0000,   0.0000,   0.0000,   0.0000,   0.0000,   0.0000,\n",
      "           0.0000,   0.0000,   0.0000,   0.0000,   0.0000,   0.0000,   0.0000,\n",
      "           0.0000,   0.0000, 102.4000, 204.8000],\n",
      "        [204.8000, 102.4000,   0.0000,   0.0000,   0.0000,   0.0000,   0.0000,\n",
      "           0.0000,   0.0000,   0.0000,   0.0000,   0.0000,   0.0000,   0.0000,\n",
      "           0.0000,   0.0000,   0.0000,   0.0000,   0.0000,   0.0000,   0.0000,\n",
      "           0.0000,   0.0000, 102.4000, 204.8000],\n",
      "        [204.8000, 102.4000,   0.0000,   0.0000,   0.0000,   0.0000,   0.0000,\n",
      "           0.0000,   0.0000,   0.0000,   0.0000,   0.0000,   0.0000,   0.0000,\n",
      "           0.0000,   0.0000,   0.0000,   0.0000,   0.0000,   0.0000,   0.0000,\n",
      "           0.0000,   0.0000, 102.4000, 204.8000],\n",
      "        [204.8000, 102.4000,   0.0000,   0.0000,   0.0000,   0.0000,   0.0000,\n",
      "           0.0000,   0.0000,   0.0000,   0.0000,   0.0000,   0.0000,   0.0000,\n",
      "           0.0000,   0.0000,   0.0000,   0.0000,   0.0000,   0.0000,   0.0000,\n",
      "           0.0000,   0.0000, 102.4000, 204.8000],\n",
      "        [204.8000, 102.4000,   0.0000,   0.0000,   0.0000,   0.0000,   0.0000,\n",
      "           0.0000,   0.0000,   0.0000,   0.0000,   0.0000,   0.0000,   0.0000,\n",
      "           0.0000,   0.0000,   0.0000,   0.0000,   0.0000,   0.0000,   0.0000,\n",
      "           0.0000,   0.0000, 102.4000, 204.8000],\n",
      "        [204.8000, 102.4000,   0.0000,   0.0000,   0.0000,   0.0000,   0.0000,\n",
      "           0.0000,   0.0000,   0.0000,   0.0000,   0.0000,   0.0000,   0.0000,\n",
      "           0.0000,   0.0000,   0.0000,   0.0000,   0.0000,   0.0000,   0.0000,\n",
      "           0.0000,   0.0000, 102.4000, 204.8000],\n",
      "        [204.8000, 102.4000,   0.0000,   0.0000,   0.0000,   0.0000,   0.0000,\n",
      "           0.0000,   0.0000,   0.0000,   0.0000,   0.0000,   0.0000,   0.0000,\n",
      "           0.0000,   0.0000,   0.0000,   0.0000,   0.0000,   0.0000,   0.0000,\n",
      "           0.0000,   0.0000, 102.4000, 204.8000],\n",
      "        [204.8000, 102.4000, 102.4000, 102.4000, 102.4000, 102.4000, 102.4000,\n",
      "         102.4000, 102.4000, 102.4000, 102.4000, 102.4000, 102.4000, 102.4000,\n",
      "         102.4000, 102.4000, 102.4000, 102.4000, 102.4000, 102.4000, 102.4000,\n",
      "         102.4000, 102.4000, 102.4000, 204.8000],\n",
      "        [204.8000, 204.8000, 204.8000, 204.8000, 204.8000, 204.8000, 204.8000,\n",
      "         204.8000, 204.8000, 204.8000, 204.8000, 204.8000, 204.8000, 204.8000,\n",
      "         204.8000, 204.8000, 204.8000, 204.8000, 204.8000, 204.8000, 204.8000,\n",
      "         204.8000, 204.8000, 204.8000, 204.8000]], device='cuda:0')\n"
     ]
    },
    {
     "data": {
      "text/plain": [
       "<matplotlib.colorbar.Colorbar at 0x7fbba30cc670>"
      ]
     },
     "execution_count": 13,
     "metadata": {},
     "output_type": "execute_result"
    },
    {
     "data": {
      "image/png": "[encoded data removed]",
      "text/plain": [
       "<Figure size 432x288 with 2 Axes>"
      ]
     },
     "metadata": {
      "needs_background": "light"
     },
     "output_type": "display_data"
    }
   ],
   "source": [
    "print(sigma2)\n",
    "plt.imshow(sigma2.detach().cpu().numpy(), cmap='viridis', interpolation='none')\n",
    "plt.colorbar()"
   ]
  },
  {
   "cell_type": "markdown",
   "metadata": {},
   "source": [
    "#### ML"
   ]
  },
  {
   "cell_type": "code",
   "execution_count": 14,
   "metadata": {},
   "outputs": [],
   "source": [
    "ML = torch.ones((1, 1, xysize, xysize), dtype=torch.float64)"
   ]
  },
  {
   "cell_type": "code",
   "execution_count": 15,
   "metadata": {},
   "outputs": [
    {
     "data": {
      "text/plain": [
       "<matplotlib.colorbar.Colorbar at 0x7fbba08a6460>"
      ]
     },
     "execution_count": 15,
     "metadata": {},
     "output_type": "execute_result"
    },
    {
     "data": {
      "image/png": "[encoded data removed]",
      "text/plain": [
       "<Figure size 432x288 with 2 Axes>"
      ]
     },
     "metadata": {
      "needs_background": "light"
     },
     "output_type": "display_data"
    }
   ],
   "source": [
    "plt.imshow((ML/ML)[0][0].detach().cpu().numpy(), cmap='viridis', interpolation='none')\n",
    "plt.colorbar()"
   ]
  },
  {
   "cell_type": "markdown",
   "metadata": {},
   "source": [
    "### Define NN Model"
   ]
  },
  {
   "cell_type": "markdown",
   "metadata": {},
   "source": [
    "#### one time step - skipping layers"
   ]
  },
  {
   "cell_type": "code",
   "execution_count": 144,
   "metadata": {},
   "outputs": [],
   "source": [
    "class AI4WaveNeuralNetwork_One_Skipping(nn.Module):\n",
    "    def __init__(self, xysize, filter_weight):\n",
    "        super(AI4WaveNeuralNetwork_One_Skipping, self).__init__()\n",
    "\n",
    "        # Specify the size of the input (batch_size, channels, height, width)\n",
    "        in_channels = 1\n",
    "\n",
    "        # Specify the size of the filter/kernel\n",
    "        kernel_size = filter_weight.shape[2]\n",
    "        padding = (kernel_size - 1) // 2\n",
    "\n",
    "        # Create a Conv2d layer with the specified weight, input size, and padding\n",
    "        self.conv_layer = nn.Conv2d(in_channels, out_channels=1, kernel_size=kernel_size, padding=padding, bias=False)\n",
    "        self.conv_layer.weight.data = filter_weight\n",
    "\n",
    "        self.xysize = xysize\n",
    "\n",
    "    def forward(self, status_tn, status_tn_1, c_value, sigma2_inv):\n",
    "        output_list = [status_tn]\n",
    "        # output_list = []\n",
    "\n",
    "        c = torch.zeros((self.xysize, self.xysize), device=device)\n",
    "        for i in range(c_value.shape[0]):\n",
    "            ones = torch.zeros((self.xysize, self.xysize), device=device)\n",
    "            ones[i*int(self.xysize/c_value.shape[0]):(i+1)*int(self.xysize/c_value.shape[0])] = 1\n",
    "            c += ones * c_value[i]\n",
    "\n",
    "        # Calculate status_tn1 based on the provided expression\n",
    "        c_status_tn = c * status_tn\n",
    "        conv_term = self.conv_layer(c_status_tn.view(1, self.xysize, self.xysize)) + c * self.conv_layer(status_tn) - status_tn * self.conv_layer(c.view(1, self.xysize, self.xysize))\n",
    "        \n",
    "        status_tn1 = (2 * status_tn - status_tn_1) - (conv_term) * (0.1 * 0.1) / 2\n",
    "        \n",
    "        output_list.append(status_tn1)\n",
    "\n",
    "        output_stacked = torch.cat(output_list, dim=1)\n",
    "\n",
    "        return output_stacked"
   ]
  },
  {
   "cell_type": "markdown",
   "metadata": {},
   "source": [
    "#### multi time step - skipping layers 10 C values"
   ]
  },
  {
   "cell_type": "code",
   "execution_count": 105,
   "metadata": {},
   "outputs": [],
   "source": [
    "class ConstantCValueLayer(nn.Module):\n",
    "    def __init__(self, xysize):\n",
    "        super(ConstantCValueLayer, self).__init__()\n",
    "        self.xysize = xysize\n",
    "\n",
    "    def forward(self, c_value):\n",
    "        c_value.retain_grad()\n",
    "        c = torch.full((self.xysize, self.xysize), c_value.item(), device=device, requires_grad=True)\n",
    "        return c"
   ]
  },
  {
   "cell_type": "code",
   "execution_count": 106,
   "metadata": {},
   "outputs": [],
   "source": [
    "class AI4WaveNeuralNetwork_Multi_Skipping(nn.Module):\n",
    "    def __init__(self, xysize, filter_weight):\n",
    "        super(AI4WaveNeuralNetwork_Multi_Skipping, self).__init__()\n",
    "\n",
    "        # Specify the size of the input (batch_size, channels, height, width)\n",
    "        in_channels = 1\n",
    "\n",
    "        # Specify the size of the filter/kernel\n",
    "        kernel_size = filter_weight.shape[2]\n",
    "        padding = (kernel_size - 1) // 2\n",
    "\n",
    "        # Create a Conv2d layer with the specified weight, input size, and padding\n",
    "        self.conv_layer = nn.Conv2d(in_channels, out_channels=1, kernel_size=kernel_size, padding=padding, bias=False)\n",
    "        self.conv_layer.weight.data = filter_weight\n",
    "\n",
    "        self.constant_layer = ConstantCValueLayer(xysize)\n",
    "\n",
    "        self.xysize = xysize\n",
    "\n",
    "    def forward(self, status_tn, status_tn_1, c_value, sigma2_inv, nsteps):\n",
    "        output_list = [status_tn_1, status_tn]\n",
    "\n",
    "        c = torch.zeros((self.xysize, self.xysize), device=device)\n",
    "        for i in range(c_value.shape[0]):\n",
    "            ones = torch.zeros((self.xysize, self.xysize), device=device)\n",
    "            ones[i*int(self.xysize/c_value.shape[0]):(i+1)*int(self.xysize/c_value.shape[0])] = 1\n",
    "            c += ones * c_value[i]\n",
    "\n",
    "        for i in range(nsteps):\n",
    "            # Calculate status_tn1 based on the provided expression\n",
    "            c_status_tn = c * status_tn\n",
    "            conv_term = self.conv_layer(c_status_tn.view(1, self.xysize, self.xysize)) + c * self.conv_layer(status_tn) - status_tn * self.conv_layer(c.view(1, self.xysize, self.xysize))\n",
    "            \n",
    "            status_tn1 = (2 * status_tn - status_tn_1) - (conv_term) * (0.1 * 0.1) / 2\n",
    "            \n",
    "            output_list.append(status_tn1)\n",
    "\n",
    "            status_tn_1 = status_tn\n",
    "            status_tn = status_tn1\n",
    "\n",
    "        output_stacked = torch.cat(output_list, dim=1)\n",
    "\n",
    "        return output_stacked"
   ]
  },
  {
   "cell_type": "code",
   "execution_count": 107,
   "metadata": {},
   "outputs": [
    {
     "data": {
      "image/png": "[encoded data removed]",
      "text/plain": [
       "<Figure size 432x288 with 2 Axes>"
      ]
     },
     "metadata": {
      "needs_background": "light"
     },
     "output_type": "display_data"
    }
   ],
   "source": [
    "a = 0.5  # lower bound\n",
    "b = 3  # upper bound\n",
    "vec = a + (b - a) * torch.rand(5, requires_grad=True, dtype=torch.float64, device=device)\n",
    "\n",
    "c = torch.zeros((25, 25), device='cuda:0', dtype=torch.float64)\n",
    "\n",
    "for i in range(5):\n",
    "    ones = torch.zeros((25, 25), device='cuda:0', dtype=torch.float64)\n",
    "    ones[i*5:(i+1)*5] = 1\n",
    "    c += ones * vec[i]\n",
    "\n",
    "\n",
    "plt.imshow(c.cpu().detach().numpy())  # Display the matrix as an image\n",
    "plt.colorbar()  # Optionally, display a colorbar\n",
    "plt.show()"
   ]
  },
  {
   "cell_type": "markdown",
   "metadata": {},
   "source": [
    "### Data assimilation one timestep - skipping layers"
   ]
  },
  {
   "cell_type": "markdown",
   "metadata": {},
   "source": [
    "#### Generate Obs"
   ]
  },
  {
   "cell_type": "code",
   "execution_count": 161,
   "metadata": {},
   "outputs": [
    {
     "data": {
      "image/png": "[encoded data removed]",
      "text/plain": [
       "<Figure size 432x288 with 2 Axes>"
      ]
     },
     "metadata": {
      "needs_background": "light"
     },
     "output_type": "display_data"
    },
    {
     "data": {
      "image/png": "[encoded data removed]",
      "text/plain": [
       "<Figure size 1440x288 with 3 Axes>"
      ]
     },
     "metadata": {
      "needs_background": "light"
     },
     "output_type": "display_data"
    },
    {
     "data": {
      "image/png": "[encoded data removed]",
      "text/plain": [
       "<Figure size 1440x288 with 3 Axes>"
      ]
     },
     "metadata": {
      "needs_background": "light"
     },
     "output_type": "display_data"
    },
    {
     "data": {
      "image/png": "[encoded data removed]",
      "text/plain": [
       "<Figure size 1440x288 with 3 Axes>"
      ]
     },
     "metadata": {
      "needs_background": "light"
     },
     "output_type": "display_data"
    },
    {
     "name": "stdout",
     "output_type": "stream",
     "text": [
      "torch.Size([1, 5, 25, 25])\n"
     ]
    }
   ],
   "source": [
    "# Specify the size of the tensor\n",
    "xysize = 25\n",
    "\n",
    "timesteps = 3\n",
    "\n",
    "# C values\n",
    "C_values_list = [5, 5, 5, 5, 5]\n",
    "# C_values_list = [1, 1, 1, 1, 1]\n",
    "c_tensor = torch.tensor(C_values_list, dtype=torch.float32, device=device, requires_grad=True)\n",
    "\n",
    "nlayers = c_tensor.size(0)\n",
    "\n",
    "# Plot C\n",
    "c = torch.zeros((xysize, xysize), device=device, dtype=torch.float32)\n",
    "\n",
    "for i in range(nlayers):\n",
    "    ones = torch.zeros((xysize, xysize), device=device, dtype=torch.float32)\n",
    "    ones[i*int(xysize/nlayers):(i+1)*int(xysize/nlayers)] = 1\n",
    "    c += ones * c_tensor[i]\n",
    "\n",
    "plt.imshow(c.cpu().detach().numpy(), cmap='viridis')\n",
    "plt.colorbar()\n",
    "plt.title('C Values - Ground Truth')\n",
    "plt.show()\n",
    "\n",
    "# Create a meshgrid\n",
    "x_values = np.linspace(0, 1, xysize)\n",
    "y_values = np.linspace(0, 1, xysize)\n",
    "x, y = np.meshgrid(x_values, y_values)\n",
    "\n",
    "# Convert NumPy arrays to PyTorch tensors with float type\n",
    "x_tensor = torch.tensor(x, dtype=torch.float32)\n",
    "y_tensor = torch.tensor(y, dtype=torch.float32)\n",
    "\n",
    "# Equation parameters\n",
    "sqrt2 = np.sqrt(2)\n",
    "pi = np.pi\n",
    "\n",
    "# Define the time tensors for t = 0, 1, and 2\n",
    "time_tensor_t0 = torch.tensor(0, dtype=torch.float32)\n",
    "time_tensor_t1 = torch.tensor(1, dtype=torch.float32)\n",
    "\n",
    "# Function to create 2D Gaussian distribution\n",
    "def gaussian2d(x, y, mu_x, mu_y, sigma_x, sigma_y):\n",
    "    exponent = -((x - mu_x)**2 / (2 * sigma_x**2) + (y - mu_y)**2 / (2 * sigma_y**2))\n",
    "    return torch.exp(exponent)\n",
    "\n",
    "# Parameters for Gaussian distributions\n",
    "mu_x = 0.5\n",
    "mu_y = 0.5\n",
    "sigma_x = 0.005\n",
    "sigma_y = 0.005\n",
    "\n",
    "# Evaluate the Gaussian distributions at t = 0, 1, and 2\n",
    "t0_values = gaussian2d(x_tensor, y_tensor, mu_x, mu_y, sigma_x, sigma_y)\n",
    "t1_values = gaussian2d(x_tensor, y_tensor, mu_x, mu_y, sigma_x, sigma_y) * torch.cos(time_tensor_t1)\n",
    "\n",
    "# Stack the tensors along a new dimension to create 3D tensors\n",
    "status_t0 = t0_values\n",
    "status_t1 = t1_values\n",
    "\n",
    "filter_weight = filter.view(1, 1, filter.shape[0], filter.shape[1]).to(device)  # Assuming filter is a 2D filter\n",
    "\n",
    "mymodel_multi = AI4WaveNeuralNetwork_Multi_Skipping(xysize, filter_weight)\n",
    "\n",
    "status_t0_tensor = status_t0.view(1, 1, xysize, xysize).to(device)\n",
    "\n",
    "# Perform a forward pass using AI4WaveNeuralNetwork\n",
    "status_t1_tensor = status_t1.view(1, 1, xysize, xysize).to(device)\n",
    "\n",
    "# Initial Status (t = 0)\n",
    "fig, axs = plt.subplots(1, 2, figsize=(20, 4))  # Create 2 subplots side by side\n",
    "\n",
    "# Plot the image on the first subplot\n",
    "im = axs[0].imshow(status_t0.cpu().detach().numpy(), cmap='viridis')\n",
    "fig.colorbar(im, ax=axs[0])\n",
    "axs[0].set_title(\"Initial Status (t = 0)\")\n",
    "\n",
    "# Plot the vertical profile on the second subplot\n",
    "vertical_profile = status_t0.cpu().detach().numpy()[xysize//2, :]  # Take the middle row\n",
    "axs[1].plot(vertical_profile)\n",
    "axs[1].set_title(\"Vertical profile at t = 0\")\n",
    "\n",
    "plt.show()\n",
    "\n",
    "# Initial Status (t = 1)\n",
    "fig, axs = plt.subplots(1, 2, figsize=(20, 4))  # Create 2 subplots side by side\n",
    "\n",
    "# Plot the image on the first subplot\n",
    "im = axs[0].imshow(status_t1.cpu().detach().numpy(), cmap='viridis')\n",
    "fig.colorbar(im, ax=axs[0])\n",
    "axs[0].set_title(\"Initial Status (t = 1)\")\n",
    "\n",
    "# Plot the vertical profile on the second subplot\n",
    "vertical_profile = status_t1.cpu().detach().numpy()[xysize//2, :]  # Take the middle row\n",
    "axs[1].plot(vertical_profile)\n",
    "axs[1].set_title(\"Vertical profile at t = 1\")\n",
    "\n",
    "plt.show()\n",
    "\n",
    "output_tensor_obs = mymodel_multi(status_t1_tensor, status_t0_tensor, c_tensor, sigma2, nsteps = timesteps)\n",
    "\n",
    "for i in range(timesteps):\n",
    "    if (i) % 5 == 0:\n",
    "        fig, axs = plt.subplots(1, 2, figsize=(20, 4))  # Create 2 subplots side by side\n",
    "\n",
    "        # Plot the image on the first subplot\n",
    "        im = axs[0].imshow(output_tensor_obs.cpu().detach().numpy()[0][i+2], cmap='viridis')\n",
    "        fig.colorbar(im, ax=axs[0])\n",
    "        axs[0].set_title(f\"Status at t = {i+2}\")\n",
    "\n",
    "        # Plot the vertical profile on the second subplot\n",
    "        vertical_profile = output_tensor_obs.cpu().detach().numpy()[0][i+2][xysize//2, :]  # Take the middle row\n",
    "        axs[1].plot(vertical_profile)\n",
    "        axs[1].set_title(f\"Vertical profile at t = {i+2}\")\n",
    "\n",
    "        plt.show()\n",
    "\n",
    "print(output_tensor_obs.shape)"
   ]
  },
  {
   "cell_type": "code",
   "execution_count": 162,
   "metadata": {},
   "outputs": [
    {
     "name": "stdout",
     "output_type": "stream",
     "text": [
      "torch.Size([5, 25, 25])\n"
     ]
    }
   ],
   "source": [
    "Status_List_stacked_obs = output_tensor_obs.squeeze(0)\n",
    "print(Status_List_stacked_obs.shape)"
   ]
  },
  {
   "cell_type": "markdown",
   "metadata": {},
   "source": [
    "#### Bigger model result"
   ]
  },
  {
   "cell_type": "code",
   "execution_count": 163,
   "metadata": {},
   "outputs": [
    {
     "name": "stdout",
     "output_type": "stream",
     "text": [
      "None\n",
      "epochs: 0\n",
      "9.689938451629132e-06\n",
      "tensor([ 3.7291e-18, -2.4416e-08, -9.3927e-06, -2.4416e-08,  3.7291e-18],\n",
      "       device='cuda:0')\n"
     ]
    }
   ],
   "source": [
    "mse_loss = nn.MSELoss()\n",
    "\n",
    "\n",
    "### faster version\n",
    "\n",
    "\n",
    "# C guess\n",
    "C_guess_value = 3.0\n",
    "c_forward1 = torch.tensor([C_guess_value]*5, dtype=torch.float32, device=device, requires_grad=True)\n",
    "\n",
    "# lr = 0.1\n",
    "lr = 0.1\n",
    "\n",
    "\n",
    "\n",
    "# Use Adam optimizer\n",
    "c_values = [c_forward1.tolist()]\n",
    "\n",
    "losses = []\n",
    "epochs = 1\n",
    "\n",
    "# Move clone operation outside the loop\n",
    "Obs_sensor_3d_array = Status_List_stacked_obs.clone()\n",
    "\n",
    "for n in range(epochs):\n",
    "    print(c_forward1.grad)\n",
    "    if n % 100 == 0:  # Print every 100 epochs\n",
    "        print('epochs:', n)\n",
    "    # optimizer.zero_grad()\n",
    "    output_tensor_forward1 = mymodel_multi(status_t1_tensor, status_t0_tensor, c_forward1, sigma2, nsteps = timesteps)\n",
    "    Status_List_stacked_forward1 = output_tensor_forward1.squeeze(0)\n",
    "\n",
    "    # consider the whole domain to calculate loss\n",
    "    loss = mse_loss(Status_List_stacked_forward1, Obs_sensor_3d_array)\n",
    "    print(loss.item())\n",
    "\n",
    "    # Backward pass to calculate gradients\n",
    "    loss.backward(retain_graph=True)\n",
    "\n",
    "    losses.append(loss.item())\n",
    "\n",
    "    print(c_forward1.grad)"
   ]
  },
  {
   "cell_type": "markdown",
   "metadata": {},
   "source": [
    "#### One time forward stepping"
   ]
  },
  {
   "cell_type": "code",
   "execution_count": 164,
   "metadata": {},
   "outputs": [
    {
     "data": {
      "image/png": "[encoded data removed]",
      "text/plain": [
       "<Figure size 1440x288 with 3 Axes>"
      ]
     },
     "metadata": {
      "needs_background": "light"
     },
     "output_type": "display_data"
    },
    {
     "data": {
      "image/png": "[encoded data removed]",
      "text/plain": [
       "<Figure size 1440x288 with 3 Axes>"
      ]
     },
     "metadata": {
      "needs_background": "light"
     },
     "output_type": "display_data"
    },
    {
     "data": {
      "image/png": "[encoded data removed]",
      "text/plain": [
       "<Figure size 1440x288 with 3 Axes>"
      ]
     },
     "metadata": {
      "needs_background": "light"
     },
     "output_type": "display_data"
    }
   ],
   "source": [
    "# C guess\n",
    "C_guess_value = 3.0\n",
    "c_forward1 = torch.tensor([C_guess_value]*5, dtype=torch.float32, device=device, requires_grad=True)\n",
    "\n",
    "\n",
    "mymodel_onestepSkip = AI4WaveNeuralNetwork_One_Skipping(xysize, filter_weight)\n",
    "\n",
    "Status_List_onestep = []\n",
    "Status_List_onestep.append(status_t0.view(1, 1, xysize, xysize).to(device))\n",
    "Status_List_onestep.append(status_t1.view(1, 1, xysize, xysize).to(device))\n",
    "status_t0 = status_t0.to(device)\n",
    "status_t1 = status_t1.to(device)\n",
    "\n",
    "# vmin, vmax = -1, 1  # Set vmin and vmax\n",
    "\n",
    "# Initial Status (t = 0)\n",
    "fig, axs = plt.subplots(1, 2, figsize=(20, 4))  # Create 2 subplots side by side\n",
    "\n",
    "# Plot the image on the first subplot\n",
    "im = axs[0].imshow(status_t0.cpu().detach().numpy(), cmap='viridis')\n",
    "fig.colorbar(im, ax=axs[0])\n",
    "axs[0].set_title(\"Initial Status (t = 0)\")\n",
    "\n",
    "# Plot the vertical profile on the second subplot\n",
    "vertical_profile = status_t0.cpu().detach().numpy()[xysize//2, :]  # Take the middle row\n",
    "axs[1].plot(vertical_profile)\n",
    "axs[1].set_title(\"Vertical profile at t = 0\")\n",
    "\n",
    "plt.show()\n",
    "\n",
    "# Initial Status (t = 1)\n",
    "fig, axs = plt.subplots(1, 2, figsize=(20, 4))  # Create 2 subplots side by side\n",
    "\n",
    "# Plot the image on the first subplot\n",
    "im = axs[0].imshow(status_t1.cpu().detach().numpy(), cmap='viridis')\n",
    "fig.colorbar(im, ax=axs[0])\n",
    "axs[0].set_title(\"Initial Status (t = 1)\")\n",
    "\n",
    "# Plot the vertical profile on the second subplot\n",
    "vertical_profile = status_t1.cpu().detach().numpy()[xysize//2, :]  # Take the middle row\n",
    "axs[1].plot(vertical_profile)\n",
    "axs[1].set_title(\"Vertical profile at t = 1\")\n",
    "\n",
    "plt.show()\n",
    "\n",
    "status_tn_1 = status_t0.view(1, 1, xysize, xysize)\n",
    "status_tn = status_t1.view(1, 1, xysize, xysize)\n",
    "\n",
    "for i in range(timesteps):\n",
    "    status_tn_1 = status_tn_1.to(device)\n",
    "    status_tn = status_tn.to(device)\n",
    "\n",
    "    # Perform a forward pass\n",
    "    output = mymodel_onestepSkip(status_tn, status_tn_1, c_forward1, sigma2)\n",
    "    status_tn1 = output[:, -1, :, :].view(1, 1, xysize, xysize)\n",
    "    \n",
    "    # plt.figure(figsize=(10, 4))\n",
    "    # plt.imshow(status_tn1.cpu().detach().numpy()[0][0], vmin=vmin, vmax=vmax, cmap='viridis')\n",
    "    # # plt.imshow(status_tn1.cpu().detach().numpy()[0][0], cmap='viridis')\n",
    "    # plt.colorbar()\n",
    "    # plt.title(f\"Status at t = {i+1}\")\n",
    "    status_detached = status_tn1.cpu().detach().numpy()[0][0]\n",
    "    Status_List_onestep.append(status_tn1)\n",
    "\n",
    "    status_tn_1 = status_tn\n",
    "    status_tn = status_tn1\n",
    "\n",
    "    # Plot the result for every 100 timesteps\n",
    "    # Plot the result for every 100 timesteps\n",
    "    if (i) % 10 == 0:\n",
    "        fig, axs = plt.subplots(1, 2, figsize=(20, 4))  # Create 2 subplots side by side\n",
    "\n",
    "        # Plot the image on the first subplot\n",
    "        im = axs[0].imshow(status_tn1.cpu().detach().numpy()[0][0], cmap='viridis')\n",
    "        fig.colorbar(im, ax=axs[0])\n",
    "        axs[0].set_title(f\"Status at t = {i+2}\")\n",
    "\n",
    "        # Plot the vertical profile on the second subplot\n",
    "        vertical_profile = status_tn1.cpu().detach().numpy()[0][0][xysize//2, :]  # Take the middle row\n",
    "        axs[1].plot(vertical_profile)\n",
    "        axs[1].set_title(f\"Vertical profile at t = {i+2}\")\n",
    "\n",
    "        plt.show()\n",
    "    \n",
    "    # return Status_List_onestep\n",
    "\n",
    "\n",
    "# Status_List_onestep = plot_diffusion(status_t0, status_t1, 200)"
   ]
  },
  {
   "cell_type": "code",
   "execution_count": 165,
   "metadata": {},
   "outputs": [
    {
     "name": "stdout",
     "output_type": "stream",
     "text": [
      "torch.Size([1, 5, 25, 25])\n"
     ]
    }
   ],
   "source": [
    "Status_List_onestep_stacked = torch.cat(Status_List_onestep, dim=1)\n",
    "print(Status_List_onestep_stacked.shape)"
   ]
  },
  {
   "cell_type": "markdown",
   "metadata": {},
   "source": [
    "#### Create data mismatch between two forward simulations"
   ]
  },
  {
   "cell_type": "code",
   "execution_count": 166,
   "metadata": {},
   "outputs": [
    {
     "name": "stdout",
     "output_type": "stream",
     "text": [
      "torch.Size([5, 25, 25])\n"
     ]
    }
   ],
   "source": [
    "print(Obs_sensor_3d_array.shape)"
   ]
  },
  {
   "cell_type": "code",
   "execution_count": 167,
   "metadata": {},
   "outputs": [
    {
     "name": "stdout",
     "output_type": "stream",
     "text": [
      "9.689938451629132e-06\n",
      "5\n"
     ]
    }
   ],
   "source": [
    "Status_List_stacked_forward1 = Status_List_onestep_stacked.squeeze(0)\n",
    "\n",
    "# consider the whole domain to calculate loss\n",
    "loss = mse_loss(Status_List_stacked_forward1[-80:], Obs_sensor_3d_array[-80:])\n",
    "print(loss.item())\n",
    "print(len(Status_List_stacked_forward1[-80:]))"
   ]
  },
  {
   "cell_type": "code",
   "execution_count": 168,
   "metadata": {},
   "outputs": [
    {
     "name": "stdout",
     "output_type": "stream",
     "text": [
      "9.689938451629132e-06\n",
      "5\n"
     ]
    }
   ],
   "source": [
    "# consider the whole domain to calculate loss\n",
    "loss = mse_loss(Status_List_stacked_forward1[-81:], Obs_sensor_3d_array[-81:])\n",
    "print(loss.item())\n",
    "print(len(Status_List_stacked_forward1[-82:]))"
   ]
  },
  {
   "cell_type": "code",
   "execution_count": 169,
   "metadata": {},
   "outputs": [
    {
     "name": "stdout",
     "output_type": "stream",
     "text": [
      "9.689938451629132e-06\n",
      "5\n"
     ]
    }
   ],
   "source": [
    "# consider the whole domain to calculate loss\n",
    "loss = mse_loss(Status_List_stacked_forward1[:], Obs_sensor_3d_array[:])\n",
    "print(loss.item())\n",
    "print(len(Status_List_stacked_forward1[:]))"
   ]
  },
  {
   "cell_type": "markdown",
   "metadata": {},
   "source": [
    "#### Backpropogate one step"
   ]
  },
  {
   "cell_type": "code",
   "execution_count": 196,
   "metadata": {},
   "outputs": [
    {
     "name": "stdout",
     "output_type": "stream",
     "text": [
      "torch.Size([1, 1, 25, 25])\n",
      "torch.Size([1, 1, 25, 25])\n",
      "torch.Size([1, 2, 25, 25])\n",
      "torch.Size([1, 1, 25, 25])\n",
      "torch.Size([1, 1, 25, 25])\n",
      "torch.Size([1, 2, 25, 25])\n",
      "torch.Size([5, 25, 25])\n",
      "tensor([ 3.7291e-18, -2.4416e-08, -9.3927e-06, -2.4416e-08,  3.7291e-18],\n",
      "       device='cuda:0')\n"
     ]
    }
   ],
   "source": [
    "mse_loss = nn.MSELoss()\n",
    "\n",
    "\n",
    "### faster version\n",
    "\n",
    "\n",
    "# C guess\n",
    "C_guess_value = 3.0\n",
    "c_forward1 = torch.tensor([C_guess_value]*5, dtype=torch.float32, device=device, requires_grad=True)\n",
    "\n",
    "# lr = 0.1\n",
    "lr = 0.1\n",
    "\n",
    "\n",
    "\n",
    "# Use Adam optimizer\n",
    "c_values = [c_forward1.tolist()]\n",
    "\n",
    "losses = []\n",
    "epochs = 1\n",
    "\n",
    "# Move clone operation outside the loop\n",
    "Obs_sensor_3d_array = Status_List_stacked_obs.clone()\n",
    "\n",
    "# Define smaller models\n",
    "mymodel1 = AI4WaveNeuralNetwork_One_Skipping(xysize, filter_weight)\n",
    "mymodel2 = AI4WaveNeuralNetwork_One_Skipping(xysize, filter_weight)\n",
    "mymodel3 = AI4WaveNeuralNetwork_One_Skipping(xysize, filter_weight)\n",
    "\n",
    "output_list = [status_t0_tensor, status_t1_tensor]\n",
    "\n",
    "for n in range(epochs):\n",
    "    # Forward pass through smaller models\n",
    "    print(status_t1_tensor.shape)\n",
    "    print(status_t0_tensor.shape)\n",
    "    output1 = mymodel1(status_t1_tensor, status_t0_tensor, c_forward1, sigma2)\n",
    "    print(output1.shape)\n",
    "    print(output1[:,1:, :, :].shape)\n",
    "    print(output1[:,0:1, :, :].shape)\n",
    "    output2 = mymodel2(output1[:,1:, :, :], output1[:,0:1, :, :], c_forward1, sigma2)  # Use the output of mymodel1 as the input to mymodel2\n",
    "    print(output2.shape)\n",
    "    output_tensor_forward1 = mymodel3(output2[:,1:, :, :], output2[:,0:1, :, :], c_forward1, sigma2)  # Use the output of mymodel2 as the input to mymodel3\n",
    "\n",
    "    output_list.append(output1[:,1:, :, :])\n",
    "    output_list.append(output2[:,1:, :, :])\n",
    "    output_list.append(output_tensor_forward1[:,1:, :, :])\n",
    "\n",
    "# Concatenate the output list along the time dimension\n",
    "output_tensor = torch.cat(output_list, dim=1).squeeze(0)\n",
    "print(output_tensor.shape)\n",
    "\n",
    "# Compute the loss\n",
    "loss = mse_loss(output_tensor, Obs_sensor_3d_array)\n",
    "\n",
    "# Backward pass to calculate gradients\n",
    "loss.backward(retain_graph=True)\n",
    "\n",
    "losses.append(loss.item())\n",
    "\n",
    "print(c_forward1.grad)\n"
   ]
  },
  {
   "cell_type": "code",
   "execution_count": null,
   "metadata": {},
   "outputs": [],
   "source": [
    "None\n",
    "epochs: 0\n",
    "9.689938451629132e-06\n",
    "tensor([ 3.7291e-18, -2.4416e-08, -9.3927e-06, -2.4416e-08,  3.7291e-18],\n",
    "       device='cuda:0')"
   ]
  },
  {
   "cell_type": "code",
   "execution_count": 155,
   "metadata": {},
   "outputs": [
    {
     "name": "stdout",
     "output_type": "stream",
     "text": [
      "82\n"
     ]
    }
   ],
   "source": [
    "print(len(Obs_sensor_3d_array))"
   ]
  },
  {
   "cell_type": "code",
   "execution_count": 160,
   "metadata": {},
   "outputs": [
    {
     "name": "stdout",
     "output_type": "stream",
     "text": [
      "tensor([0.0000e+00, 1.2377e-07, 4.2925e-05, 1.2377e-07, 0.0000e+00],\n",
      "       device='cuda:0')\n",
      "tensor(0.2700, device='cuda:0', grad_fn=<AddBackward0>)\n",
      "-81\n"
     ]
    }
   ],
   "source": [
    "# Define the number of steps\n",
    "num_steps = 80\n",
    "\n",
    "# Initialize the loss function\n",
    "mse_loss = nn.MSELoss()\n",
    "\n",
    "# Initialize the model\n",
    "mymodel = AI4WaveNeuralNetwork_One_Skipping(xysize, filter_weight)\n",
    "\n",
    "overall_mismatch = 0\n",
    "\n",
    "# Initialize c_np\n",
    "C_guess_value = 3.0\n",
    "c = torch.tensor([C_guess_value]*5, dtype=torch.float32, device=device, requires_grad=True)\n",
    "\n",
    "# Loop over the number of steps\n",
    "for i in range(num_steps):\n",
    "    # Zero the gradients\n",
    "    c.grad = None\n",
    "\n",
    "    # Get the status at time n and n-1\n",
    "    status_tn = Status_List_onestep[-(i+2)].clone().requires_grad_()\n",
    "    status_tn_1 = Status_List_onestep[-(i+3)].clone().requires_grad_()\n",
    "\n",
    "    # Forward pass\n",
    "    output_statuses = mymodel(status_tn, status_tn_1, c, sigma2).squeeze(0)\n",
    "    # status_tn1 = output_statuses[-2:-1]\n",
    "    status_tn1 = output_statuses\n",
    "    # print(status_tn1.shape)\n",
    "\n",
    "    # Compute the loss\n",
    "    # dF = mse_loss(status_tn1, Obs_sensor_3d_array[-(i+1)].to(device))\n",
    "    # print(output_statuses.shape)\n",
    "    # print(Status_List_stacked_obs[-(i+2):-(i)].shape)\n",
    "    dF = mse_loss(output_statuses, Status_List_stacked_obs[-(i+3):-(i+1)].to(device))\n",
    "\n",
    "    overall_mismatch = overall_mismatch + dF\n",
    "\n",
    "    # Sum the gradients\n",
    "    grad_status_tn_scaler = torch.sum(status_tn.grad) if status_tn.grad is not None else 0\n",
    "    grad_status_tn_1_scaler = torch.sum(status_tn_1.grad) if status_tn_1.grad is not None else 0\n",
    "    grad_c_scaler = torch.sum(c.grad) if c.grad is not None else 0\n",
    "\n",
    "    loss = dF + grad_status_tn_scaler + grad_status_tn_1_scaler +  grad_c_scaler if i > 0 else dF\n",
    "    # loss = dF + grad_c_scaler if i > 0 else dF\n",
    "\n",
    "    # Backward pass\n",
    "    loss.backward(retain_graph=True)\n",
    "\n",
    "print(c.grad)\n",
    "\n",
    "print(overall_mismatch)\n",
    "print(-(i+2))"
   ]
  },
  {
   "cell_type": "code",
   "execution_count": null,
   "metadata": {},
   "outputs": [],
   "source": [
    "tensor([-4.0257e-05, -1.6394e-04, -8.4142e-04, -1.6394e-04, -4.0257e-05],\n",
    "       device='cuda:0')"
   ]
  },
  {
   "cell_type": "code",
   "execution_count": 129,
   "metadata": {},
   "outputs": [
    {
     "name": "stderr",
     "output_type": "stream",
     "text": [
      "/home/dg321/anaconda3/envs/icdss/lib/python3.8/site-packages/torch/nn/modules/loss.py:529: UserWarning: Using a target size (torch.Size([25, 25])) that is different to the input size (torch.Size([1, 25, 25])). This will likely lead to incorrect results due to broadcasting. Please ensure they have the same size.\n",
      "  return F.mse_loss(input, target, reduction=self.reduction)\n",
      "/home/dg321/anaconda3/envs/icdss/lib/python3.8/site-packages/torch/_tensor.py:1104: UserWarning: The .grad attribute of a Tensor that is not a leaf Tensor is being accessed. Its .grad attribute won't be populated during autograd.backward(). If you indeed want the .grad field to be populated for a non-leaf Tensor, use .retain_grad() on the non-leaf Tensor. If you access the non-leaf Tensor by mistake, make sure you access the leaf Tensor instead. See github.com/pytorch/pytorch/pull/30531 for more informations. (Triggered internally at  aten/src/ATen/core/TensorBody.h:475.)\n",
      "  return self._grad\n"
     ]
    },
    {
     "name": "stdout",
     "output_type": "stream",
     "text": [
      "tensor([ 0.0000e+00, -3.6464e-08, -1.5100e-05, -3.6464e-08,  0.0000e+00],\n",
      "       device='cuda:0')\n",
      "tensor(0.2918, device='cuda:0', grad_fn=<AddBackward0>)\n"
     ]
    }
   ],
   "source": [
    "# Define the number of steps\n",
    "num_steps = 80\n",
    "\n",
    "# Initialize the loss function\n",
    "mse_loss = nn.MSELoss()\n",
    "\n",
    "# Initialize the model\n",
    "mymodel = AI4WaveNeuralNetwork_One_Skipping(xysize, filter_weight)\n",
    "\n",
    "# Initialize c_np\n",
    "C_guess_value = 3.0\n",
    "c = torch.tensor([C_guess_value]*5, dtype=torch.float32, device=device, requires_grad=True)\n",
    "\n",
    "overall_mismatch = 0\n",
    "\n",
    "# Loop over the number of steps\n",
    "for i in range(num_steps):\n",
    "    # Zero the gradients\n",
    "    if c.grad is not None:\n",
    "        c.grad.zero_()\n",
    "\n",
    "    # Get the status at time n and n-1\n",
    "    status_tn = Status_List_onestep[-(i+2)].clone().requires_grad_()\n",
    "    status_tn_1 = Status_List_onestep[-(i+3)].clone().requires_grad_()\n",
    "\n",
    "    # Forward pass\n",
    "    output_statuses = mymodel(status_tn, status_tn_1, c, sigma2).squeeze(0)\n",
    "    status_tn1 = output_statuses\n",
    "\n",
    "    # Compute the loss\n",
    "    loss = mse_loss(status_tn1, Obs_sensor_3d_array[-(i+1)].to(device))\n",
    "\n",
    "    overall_mismatch = overall_mismatch + loss\n",
    "\n",
    "    # Backward pass\n",
    "    loss.backward(retain_graph=True)\n",
    "\n",
    "    # Sum the gradients\n",
    "    grad_status_tn_scaler = torch.sum(status_tn.grad) if status_tn.grad is not None else 0\n",
    "    grad_status_tn_1_scaler = torch.sum(status_tn_1.grad) if status_tn_1.grad is not None else 0\n",
    "    grad_c_scaler = torch.sum(c.grad) if c.grad is not None else 0\n",
    "\n",
    "print(c.grad)\n",
    "\n",
    "print(overall_mismatch)"
   ]
  },
  {
   "cell_type": "code",
   "execution_count": null,
   "metadata": {},
   "outputs": [],
   "source": []
  }
 ],
 "metadata": {
  "kernelspec": {
   "display_name": "Python 3",
   "language": "python",
   "name": "python3"
  },
  "language_info": {
   "codemirror_mode": {
    "name": "ipython",
    "version": 3
   },
   "file_extension": ".py",
   "mimetype": "text/x-python",
   "name": "python",
   "nbconvert_exporter": "python",
   "pygments_lexer": "ipython3",
   "version": "3.8.13"
  }
 },
 "nbformat": 4,
 "nbformat_minor": 2
}
