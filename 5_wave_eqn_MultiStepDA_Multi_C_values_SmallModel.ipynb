{
 "cells": [
  {
   "cell_type": "markdown",
   "metadata": {},
   "source": [
    "### Initial settings"
   ]
  },
  {
   "cell_type": "code",
   "execution_count": 34,
   "metadata": {},
   "outputs": [],
   "source": [
    "#-- Import general libraries\n",
    "import os\n",
    "# os.environ['TF_XLA_FLAGS'] = '--tf_xla_enable_xla_devices' ## enable xla devices # Comment out this line if runing on GPU cluster\n",
    "import numpy as np \n",
    "import pandas as pd\n",
    "import time \n",
    "import math\n",
    "import torch\n",
    "import torch.nn as nn\n",
    "import torch.nn.functional as F\n",
    "import matplotlib.pyplot as plt\n",
    "\n",
    "import wandb"
   ]
  },
  {
   "cell_type": "code",
   "execution_count": 35,
   "metadata": {},
   "outputs": [],
   "source": [
    "import os\n",
    "os.environ[\"CUDA_VISIBLE_DEVICES\"] = f\"{0}\""
   ]
  },
  {
   "cell_type": "code",
   "execution_count": 36,
   "metadata": {},
   "outputs": [
    {
     "name": "stdout",
     "output_type": "stream",
     "text": [
      "Is GPU available? True\n",
      "GPU Device Name: GeForce RTX 2080 Ti\n",
      "GPU Device Index: 0\n"
     ]
    }
   ],
   "source": [
    "# Check if GPU is available \n",
    "is_gpu = torch.cuda.is_available()\n",
    "device = torch.device(\"cuda\" if is_gpu else \"cpu\")\n",
    "print(f\"Is GPU available? {is_gpu}\")\n",
    "\n",
    "# If GPU is available, print additional information\n",
    "if is_gpu:\n",
    "    current_device = torch.cuda.current_device()\n",
    "    device_name = torch.cuda.get_device_name(current_device)\n",
    "    print(f\"GPU Device Name: {device_name}\")\n",
    "    print(f\"GPU Device Index: {current_device}\")"
   ]
  },
  {
   "cell_type": "code",
   "execution_count": 37,
   "metadata": {},
   "outputs": [
    {
     "name": "stdout",
     "output_type": "stream",
     "text": [
      "tensor([[0.6590, 0.2424, 0.0986],\n",
      "        [0.0900, 0.2447, 0.6652]])\n"
     ]
    }
   ],
   "source": [
    "import torch\n",
    "import torch.nn.functional as F\n",
    "\n",
    "# Example input tensor with shape (batch_size, num_classes)\n",
    "raw_scores = torch.tensor([[2.0, 1.0, 0.1],\n",
    "                           [0.5, 1.5, 2.5]])\n",
    "\n",
    "# Apply softmax function along dim=1\n",
    "probabilities = F.softmax(raw_scores, dim=1)\n",
    "\n",
    "print(probabilities)"
   ]
  },
  {
   "cell_type": "code",
   "execution_count": 38,
   "metadata": {},
   "outputs": [
    {
     "name": "stdout",
     "output_type": "stream",
     "text": [
      "tensor([[0.6590, 0.2424, 0.0986],\n",
      "        [0.0900, 0.2447, 0.6652]])\n"
     ]
    }
   ],
   "source": [
    "import torch\n",
    "import torch.nn.functional as F\n",
    "\n",
    "# Example input tensor with shape (batch_size, num_classes)\n",
    "raw_scores = torch.tensor([[2.0, 1.0, 0.1],\n",
    "                           [0.5, 1.5, 2.5]])\n",
    "\n",
    "# Apply softmax function along dim=1\n",
    "probabilities = F.softmax(raw_scores, dim=1)\n",
    "\n",
    "print(probabilities)"
   ]
  },
  {
   "cell_type": "code",
   "execution_count": 50,
   "metadata": {},
   "outputs": [
    {
     "name": "stdout",
     "output_type": "stream",
     "text": [
      "tensor([0.3235, 0.3991])\n",
      "tensor(0.7226)\n"
     ]
    }
   ],
   "source": [
    "m = nn.Sigmoid()\n",
    "input = torch.randn(2)\n",
    "output = m(input)\n",
    "print(output)\n",
    "print(output.sum())"
   ]
  },
  {
   "cell_type": "code",
   "execution_count": 53,
   "metadata": {},
   "outputs": [
    {
     "name": "stdout",
     "output_type": "stream",
     "text": [
      "tensor([0.9358, 0.0642])\n",
      "tensor(1.)\n"
     ]
    }
   ],
   "source": [
    "m = nn.Softmax(dim=0)\n",
    "input = torch.randn(2)\n",
    "output = m(input)\n",
    "print(output)\n",
    "print(output.sum())"
   ]
  },
  {
   "cell_type": "code",
   "execution_count": 54,
   "metadata": {},
   "outputs": [
    {
     "name": "stdout",
     "output_type": "stream",
     "text": [
      "tensor(2.2992e-07)\n"
     ]
    }
   ],
   "source": [
    "# Assume input is a 2D tensor of shape (batch_size, num_features)\n",
    "input = torch.randn(10, 20)\n",
    "\n",
    "# Flatten the input to a 1D tensor\n",
    "input_flattened = input.flatten()\n",
    "\n",
    "# Define a sigmoid activation function\n",
    "sigmoid = nn.Sigmoid()\n",
    "\n",
    "# Apply the sigmoid function to the sum of the flattened input\n",
    "output = sigmoid(input_flattened.sum())\n",
    "\n",
    "# Now, output is a scalar between 0 and 1\n",
    "print(output)"
   ]
  },
  {
   "cell_type": "markdown",
   "metadata": {},
   "source": [
    "#### Filters"
   ]
  },
  {
   "cell_type": "code",
   "execution_count": 4,
   "metadata": {},
   "outputs": [
    {
     "name": "stdout",
     "output_type": "stream",
     "text": [
      "tensor([[ 0., -1.,  0.],\n",
      "        [-1.,  4., -1.],\n",
      "        [ 0., -1.,  0.]])\n",
      "torch.Size([3, 3])\n"
     ]
    }
   ],
   "source": [
    "# # # ################################### # # #\n",
    "# # # ######   Numerial parameters ###### # # #\n",
    "# # # ################################### # # #\n",
    "c = 1  # speed of sound 1m/s\n",
    "courant_number = 0.1\n",
    "\n",
    "# # # ################################### # # #\n",
    "# # # ######    Linear Filter      ###### # # #\n",
    "# # # ################################### # # #\n",
    "\n",
    "\n",
    "\n",
    "\n",
    "filter = torch.tensor([[0.0, -1.0, 0.0],\n",
    "       [-1.0, 4.0, -1.0],\n",
    "       [0.0, -1.0, 0.0]])\n",
    "\n",
    "\n",
    "\n",
    "advection_operator_x = torch.tensor([[0.0, 0.0, 0.0],\n",
    "       [0.5, 0.0, -0.5],\n",
    "       [0.0, 0.0, 0.0]])\n",
    "\n",
    "advection_operator_y = torch.tensor([[0.0, -0.5, 0.0],\n",
    "       [0.0, 0.0, 0.0],\n",
    "       [0.0, 0.5, 0.0]])\n",
    "\n",
    "print(filter)\n",
    "print(filter.shape)"
   ]
  },
  {
   "cell_type": "markdown",
   "metadata": {},
   "source": [
    "##### 7*7 Cubic"
   ]
  },
  {
   "cell_type": "code",
   "execution_count": 5,
   "metadata": {},
   "outputs": [
    {
     "name": "stdout",
     "output_type": "stream",
     "text": [
      "[[-1.09758265e-03  6.63881977e-03 -3.18743335e-02  4.14148596e-03\n",
      "  -3.18743335e-02  6.63881977e-03 -1.09758265e-03]\n",
      " [ 6.63881977e-03 -3.45538571e-02  1.36055812e-01  1.86846783e-01\n",
      "   1.36055812e-01 -3.45538571e-02  6.63881977e-03]\n",
      " [-3.18743335e-02  1.36055812e-01 -3.50937611e-01 -2.02603982e+00\n",
      "  -3.50937611e-01  1.36055812e-01 -3.18743335e-02]\n",
      " [ 4.14148596e-03  1.86846783e-01 -2.02603982e+00  8.00000000e+00\n",
      "  -2.02603982e+00  1.86846783e-01  4.14148596e-03]\n",
      " [-3.18743335e-02  1.36055812e-01 -3.50937611e-01 -2.02603982e+00\n",
      "  -3.50937611e-01  1.36055812e-01 -3.18743335e-02]\n",
      " [ 6.63881977e-03 -3.45538571e-02  1.36055812e-01  1.86846783e-01\n",
      "   1.36055812e-01 -3.45538571e-02  6.63881977e-03]\n",
      " [-1.09758265e-03  6.63881977e-03 -3.18743335e-02  4.14148596e-03\n",
      "  -3.18743335e-02  6.63881977e-03 -1.09758265e-03]]\n",
      "torch.Size([7, 7])\n"
     ]
    }
   ],
   "source": [
    "# 7*7\n",
    "data_str = \"\"\"-1.0975826519729831E-003   6.6388197653750505E-003  -3.1874333451830800E-002   4.1414859580519367E-003  -3.1874333451830786E-002   6.6388197653750435E-003  -1.0975826519729816E-003\n",
    " 6.6388197653750505E-003  -3.4553857092072565E-002  0.13605581230003569       0.18684678279416977       0.13605581230003563       -3.4553857092072537E-002   6.6388197653750418E-003\n",
    "-3.1874333451830800E-002  0.13605581230003572      -0.35093761109136207       -2.0260398151439736      -0.35093761109136201       0.13605581230003563       -3.1874333451830779E-002\n",
    " 4.1414859580518951E-003  0.18684678279416983       -2.0260398151439745        8.0000000000000000       -2.0260398151439745       0.18684678279416983        4.1414859580518951E-003\n",
    "-3.1874333451830786E-002  0.13605581230003563      -0.35093761109136201       -2.0260398151439736      -0.35093761109136201       0.13605581230003569       -3.1874333451830800E-002\n",
    " 6.6388197653750418E-003  -3.4553857092072537E-002  0.13605581230003563       0.18684678279416977       0.13605581230003566       -3.4553857092072565E-002   6.6388197653750505E-003\n",
    "-1.0975826519729816E-003   6.6388197653750435E-003  -3.1874333451830779E-002   4.1414859580519367E-003  -3.1874333451830807E-002   6.6388197653750505E-003  -1.0975826519729831E-003\"\"\"\n",
    "\n",
    "# Convert the string to a 2D NumPy array\n",
    "data_array = np.array([list(map(float, line.split())) for line in data_str.split('\\n')])\n",
    "\n",
    "# Reshape the array into a 9x9 tensor\n",
    "tensor = data_array.reshape(7, 7)\n",
    "\n",
    "# Print the generated tensor\n",
    "print(tensor)\n",
    "\n",
    "filter = torch.FloatTensor(tensor*1)\n",
    "\n",
    "print(filter.shape)"
   ]
  },
  {
   "cell_type": "markdown",
   "metadata": {},
   "source": [
    "#### New initial conditions - Gaussian Distribution"
   ]
  },
  {
   "cell_type": "code",
   "execution_count": 6,
   "metadata": {},
   "outputs": [
    {
     "data": {
      "image/png": "[encoded data removed]",
      "text/plain": [
       "<Figure size 1296x432 with 4 Axes>"
      ]
     },
     "metadata": {
      "needs_background": "light"
     },
     "output_type": "display_data"
    }
   ],
   "source": [
    "# Specify the size of the tensor\n",
    "xysize = 25\n",
    "\n",
    "# Create a meshgrid\n",
    "x_values = np.linspace(0, 1, xysize)\n",
    "y_values = np.linspace(0, 1, xysize)\n",
    "x, y = np.meshgrid(x_values, y_values)\n",
    "\n",
    "# Convert NumPy arrays to PyTorch tensors with float type\n",
    "x_tensor = torch.tensor(x, dtype=torch.float32)\n",
    "y_tensor = torch.tensor(y, dtype=torch.float32)\n",
    "\n",
    "# Equation parameters\n",
    "sqrt2 = np.sqrt(2)\n",
    "pi = np.pi\n",
    "\n",
    "# Define the time tensors for t = 0, 1, and 2\n",
    "time_tensor_t0 = torch.tensor(0, dtype=torch.float32)\n",
    "time_tensor_t1 = torch.tensor(1, dtype=torch.float32)\n",
    "\n",
    "# Function to create 2D Gaussian distribution\n",
    "def gaussian2d(x, y, mu_x, mu_y, sigma_x, sigma_y):\n",
    "    exponent = -((x - mu_x)**2 / (2 * sigma_x**2) + (y - mu_y)**2 / (2 * sigma_y**2))\n",
    "    return torch.exp(exponent)\n",
    "\n",
    "# Parameters for Gaussian distributions\n",
    "mu_x = 0.5\n",
    "mu_y = 0.5\n",
    "sigma_x = 0.005\n",
    "sigma_y = 0.005\n",
    "\n",
    "# Evaluate the Gaussian distributions at t = 0, 1, and 2\n",
    "t0_values = gaussian2d(x_tensor, y_tensor, mu_x, mu_y, sigma_x, sigma_y)\n",
    "t1_values = gaussian2d(x_tensor, y_tensor, mu_x, mu_y, sigma_x, sigma_y) * torch.cos(time_tensor_t1)\n",
    "\n",
    "# Stack the tensors along a new dimension to create 3D tensors\n",
    "status_t0 = t0_values\n",
    "status_t1 = t1_values\n",
    "\n",
    "# Plot the tensors\n",
    "plt.figure(figsize=(18, 6))\n",
    "\n",
    "# Plot at t = 0\n",
    "plt.subplot(1, 2, 1)\n",
    "plt.imshow(status_t0.numpy(), cmap='viridis', interpolation='none')\n",
    "plt.title('Tensor at t = 0')\n",
    "plt.colorbar()\n",
    "\n",
    "# Plot at t = 1\n",
    "plt.subplot(1, 2, 2)\n",
    "plt.imshow(status_t1.numpy(), cmap='viridis', interpolation='none')\n",
    "plt.title('Tensor at t = 1')\n",
    "plt.colorbar()\n",
    "\n",
    "# # Plot at t = 2\n",
    "# plt.subplot(1, 3, 3)\n",
    "# plt.imshow(status_t2.numpy(), cmap='viridis', interpolation='none')\n",
    "# plt.title('Tensor at t = 2')\n",
    "# plt.colorbar()\n",
    "\n",
    "plt.show()"
   ]
  },
  {
   "cell_type": "markdown",
   "metadata": {},
   "source": [
    "#### C spead of sound"
   ]
  },
  {
   "cell_type": "code",
   "execution_count": 7,
   "metadata": {},
   "outputs": [
    {
     "data": {
      "image/png": "[encoded data removed]",
      "text/plain": [
       "<Figure size 432x432 with 2 Axes>"
      ]
     },
     "metadata": {
      "needs_background": "light"
     },
     "output_type": "display_data"
    },
    {
     "name": "stdout",
     "output_type": "stream",
     "text": [
      "tensor([[1., 1., 1., 1., 1., 1., 1., 1., 1., 1., 1., 1., 1., 1., 1., 1., 1., 1.,\n",
      "         1., 1., 1., 1., 1., 1., 1.],\n",
      "        [1., 1., 1., 1., 1., 1., 1., 1., 1., 1., 1., 1., 1., 1., 1., 1., 1., 1.,\n",
      "         1., 1., 1., 1., 1., 1., 1.],\n",
      "        [1., 1., 1., 1., 1., 1., 1., 1., 1., 1., 1., 1., 1., 1., 1., 1., 1., 1.,\n",
      "         1., 1., 1., 1., 1., 1., 1.],\n",
      "        [1., 1., 1., 1., 1., 1., 1., 1., 1., 1., 1., 1., 1., 1., 1., 1., 1., 1.,\n",
      "         1., 1., 1., 1., 1., 1., 1.],\n",
      "        [1., 1., 1., 1., 1., 1., 1., 1., 1., 1., 1., 1., 1., 1., 1., 1., 1., 1.,\n",
      "         1., 1., 1., 1., 1., 1., 1.],\n",
      "        [1., 1., 1., 1., 1., 1., 1., 1., 1., 1., 1., 1., 1., 1., 1., 1., 1., 1.,\n",
      "         1., 1., 1., 1., 1., 1., 1.],\n",
      "        [1., 1., 1., 1., 1., 1., 1., 1., 1., 1., 1., 1., 1., 1., 1., 1., 1., 1.,\n",
      "         1., 1., 1., 1., 1., 1., 1.],\n",
      "        [1., 1., 1., 1., 1., 1., 1., 1., 1., 1., 1., 1., 1., 1., 1., 1., 1., 1.,\n",
      "         1., 1., 1., 1., 1., 1., 1.],\n",
      "        [1., 1., 1., 1., 1., 1., 1., 1., 1., 1., 1., 1., 1., 1., 1., 1., 1., 1.,\n",
      "         1., 1., 1., 1., 1., 1., 1.],\n",
      "        [1., 1., 1., 1., 1., 1., 1., 1., 1., 1., 1., 1., 1., 1., 1., 1., 1., 1.,\n",
      "         1., 1., 1., 1., 1., 1., 1.],\n",
      "        [1., 1., 1., 1., 1., 1., 1., 1., 1., 1., 1., 1., 1., 1., 1., 1., 1., 1.,\n",
      "         1., 1., 1., 1., 1., 1., 1.],\n",
      "        [1., 1., 1., 1., 1., 1., 1., 1., 1., 1., 1., 1., 1., 1., 1., 1., 1., 1.,\n",
      "         1., 1., 1., 1., 1., 1., 1.],\n",
      "        [1., 1., 1., 1., 1., 1., 1., 1., 1., 1., 1., 1., 1., 1., 1., 1., 1., 1.,\n",
      "         1., 1., 1., 1., 1., 1., 1.],\n",
      "        [1., 1., 1., 1., 1., 1., 1., 1., 1., 1., 1., 1., 1., 1., 1., 1., 1., 1.,\n",
      "         1., 1., 1., 1., 1., 1., 1.],\n",
      "        [1., 1., 1., 1., 1., 1., 1., 1., 1., 1., 1., 1., 1., 1., 1., 1., 1., 1.,\n",
      "         1., 1., 1., 1., 1., 1., 1.],\n",
      "        [1., 1., 1., 1., 1., 1., 1., 1., 1., 1., 1., 1., 1., 1., 1., 1., 1., 1.,\n",
      "         1., 1., 1., 1., 1., 1., 1.],\n",
      "        [1., 1., 1., 1., 1., 1., 1., 1., 1., 1., 1., 1., 1., 1., 1., 1., 1., 1.,\n",
      "         1., 1., 1., 1., 1., 1., 1.],\n",
      "        [1., 1., 1., 1., 1., 1., 1., 1., 1., 1., 1., 1., 1., 1., 1., 1., 1., 1.,\n",
      "         1., 1., 1., 1., 1., 1., 1.],\n",
      "        [1., 1., 1., 1., 1., 1., 1., 1., 1., 1., 1., 1., 1., 1., 1., 1., 1., 1.,\n",
      "         1., 1., 1., 1., 1., 1., 1.],\n",
      "        [1., 1., 1., 1., 1., 1., 1., 1., 1., 1., 1., 1., 1., 1., 1., 1., 1., 1.,\n",
      "         1., 1., 1., 1., 1., 1., 1.],\n",
      "        [1., 1., 1., 1., 1., 1., 1., 1., 1., 1., 1., 1., 1., 1., 1., 1., 1., 1.,\n",
      "         1., 1., 1., 1., 1., 1., 1.],\n",
      "        [1., 1., 1., 1., 1., 1., 1., 1., 1., 1., 1., 1., 1., 1., 1., 1., 1., 1.,\n",
      "         1., 1., 1., 1., 1., 1., 1.],\n",
      "        [1., 1., 1., 1., 1., 1., 1., 1., 1., 1., 1., 1., 1., 1., 1., 1., 1., 1.,\n",
      "         1., 1., 1., 1., 1., 1., 1.],\n",
      "        [1., 1., 1., 1., 1., 1., 1., 1., 1., 1., 1., 1., 1., 1., 1., 1., 1., 1.,\n",
      "         1., 1., 1., 1., 1., 1., 1.],\n",
      "        [1., 1., 1., 1., 1., 1., 1., 1., 1., 1., 1., 1., 1., 1., 1., 1., 1., 1.,\n",
      "         1., 1., 1., 1., 1., 1., 1.]], device='cuda:0',\n",
      "       grad_fn=<ToCopyBackward0>)\n"
     ]
    }
   ],
   "source": [
    "c_np = np.ones((xysize, xysize))\n",
    "\n",
    "# uncomment to make the values different\n",
    "# right_half_start = xysize // 2\n",
    "# c_np[:, right_half_start:] = 2\n",
    "\n",
    "c = torch.from_numpy(c_np).float().requires_grad_()\n",
    "\n",
    "# Plot the tensor at t = 0\n",
    "plt.figure(figsize=(6, 6))\n",
    "plt.imshow(c.detach().numpy(), cmap='viridis', interpolation='none')\n",
    "plt.title('C')\n",
    "plt.colorbar()\n",
    "plt.show()\n",
    "\n",
    "c = c.to(device)\n",
    "print(c)"
   ]
  },
  {
   "cell_type": "markdown",
   "metadata": {},
   "source": [
    "#### Sigma2"
   ]
  },
  {
   "cell_type": "code",
   "execution_count": 8,
   "metadata": {},
   "outputs": [],
   "source": [
    "l = xysize/10"
   ]
  },
  {
   "cell_type": "code",
   "execution_count": 9,
   "metadata": {},
   "outputs": [],
   "source": [
    "value_origin_point = - 9 * (4-0)\n",
    "k = 400"
   ]
  },
  {
   "cell_type": "code",
   "execution_count": 10,
   "metadata": {},
   "outputs": [],
   "source": [
    "sigma2 = torch.zeros((xysize, xysize), dtype=torch.float32)"
   ]
  },
  {
   "cell_type": "code",
   "execution_count": 11,
   "metadata": {},
   "outputs": [
    {
     "name": "stdout",
     "output_type": "stream",
     "text": [
      "0.125\n"
     ]
    }
   ],
   "source": [
    "l_over_speed = (l / 1) * 0.05 \n",
    "print(l_over_speed)"
   ]
  },
  {
   "cell_type": "code",
   "execution_count": 12,
   "metadata": {},
   "outputs": [
    {
     "data": {
      "image/png": "[encoded data removed]",
      "text/plain": [
       "<Figure size 432x288 with 1 Axes>"
      ]
     },
     "metadata": {
      "needs_background": "light"
     },
     "output_type": "display_data"
    }
   ],
   "source": [
    "def create_reverse_pyramid_tensor(size, inner_square_ratio):\n",
    "    pyramid = np.zeros((size, size), dtype=np.float32)\n",
    "\n",
    "    center = size // 2\n",
    "    center_value = -16.0/(l_over_speed*l_over_speed)\n",
    "    boundary_value = 4.0/(l_over_speed*l_over_speed)\n",
    "\n",
    "    inner_square_width = int(size * inner_square_ratio)\n",
    "\n",
    "    for i in range(size):\n",
    "        for j in range(size):\n",
    "            distance_to_center = max(abs(i - center), abs(j - center))\n",
    "            \n",
    "            # Set the values for the reverse pyramid\n",
    "            pyramid[i, j] = center_value + 4.0/(l_over_speed*l_over_speed) * (distance_to_center/xysize/0.1)\n",
    "            \n",
    "            # Set the values for the inner square to 0\n",
    "            if (\n",
    "                i >= center - inner_square_width // 2 and i < center + inner_square_width // 2\n",
    "                and j >= center - inner_square_width // 2 and j < center + inner_square_width // 2\n",
    "            ):\n",
    "                pyramid[i, j] = 0.0\n",
    "\n",
    "    return pyramid\n",
    "\n",
    "# Set the size of the pyramid (choose an odd number for symmetry)\n",
    "pyramid_size = 25  # xysize = 25\n",
    "# inner_square_ratio = 9/10\n",
    "inner_square_ratio = 4/5\n",
    "\n",
    "# Create the reverse pyramid tensor with inner square values set to 0\n",
    "sigma2 = create_reverse_pyramid_tensor(pyramid_size, inner_square_ratio)\n",
    "\n",
    "# Plot the reverse pyramid tensor\n",
    "fig = plt.figure()\n",
    "ax = fig.add_subplot(111, projection='3d')\n",
    "\n",
    "x = np.arange(0, pyramid_size, 1)\n",
    "y = np.arange(0, pyramid_size, 1)\n",
    "x, y = np.meshgrid(x, y)\n",
    "\n",
    "ax.plot_surface(x, y, sigma2, cmap='viridis')\n",
    "\n",
    "ax.set_xlabel('X')\n",
    "ax.set_ylabel('Y')\n",
    "ax.set_zlabel('Value')\n",
    "ax.set_title('Reverse Pyramid Tensor with Inner Square')\n",
    "\n",
    "plt.show()\n",
    "\n",
    "sigma2 = torch.from_numpy(sigma2).to(device)"
   ]
  },
  {
   "cell_type": "code",
   "execution_count": 13,
   "metadata": {},
   "outputs": [
    {
     "name": "stdout",
     "output_type": "stream",
     "text": [
      "tensor([[204.8000, 204.8000, 204.8000, 204.8000, 204.8000, 204.8000, 204.8000,\n",
      "         204.8000, 204.8000, 204.8000, 204.8000, 204.8000, 204.8000, 204.8000,\n",
      "         204.8000, 204.8000, 204.8000, 204.8000, 204.8000, 204.8000, 204.8000,\n",
      "         204.8000, 204.8000, 204.8000, 204.8000],\n",
      "        [204.8000, 102.4000, 102.4000, 102.4000, 102.4000, 102.4000, 102.4000,\n",
      "         102.4000, 102.4000, 102.4000, 102.4000, 102.4000, 102.4000, 102.4000,\n",
      "         102.4000, 102.4000, 102.4000, 102.4000, 102.4000, 102.4000, 102.4000,\n",
      "         102.4000, 102.4000, 102.4000, 204.8000],\n",
      "        [204.8000, 102.4000,   0.0000,   0.0000,   0.0000,   0.0000,   0.0000,\n",
      "           0.0000,   0.0000,   0.0000,   0.0000,   0.0000,   0.0000,   0.0000,\n",
      "           0.0000,   0.0000,   0.0000,   0.0000,   0.0000,   0.0000,   0.0000,\n",
      "           0.0000,   0.0000, 102.4000, 204.8000],\n",
      "        [204.8000, 102.4000,   0.0000,   0.0000,   0.0000,   0.0000,   0.0000,\n",
      "           0.0000,   0.0000,   0.0000,   0.0000,   0.0000,   0.0000,   0.0000,\n",
      "           0.0000,   0.0000,   0.0000,   0.0000,   0.0000,   0.0000,   0.0000,\n",
      "           0.0000,   0.0000, 102.4000, 204.8000],\n",
      "        [204.8000, 102.4000,   0.0000,   0.0000,   0.0000,   0.0000,   0.0000,\n",
      "           0.0000,   0.0000,   0.0000,   0.0000,   0.0000,   0.0000,   0.0000,\n",
      "           0.0000,   0.0000,   0.0000,   0.0000,   0.0000,   0.0000,   0.0000,\n",
      "           0.0000,   0.0000, 102.4000, 204.8000],\n",
      "        [204.8000, 102.4000,   0.0000,   0.0000,   0.0000,   0.0000,   0.0000,\n",
      "           0.0000,   0.0000,   0.0000,   0.0000,   0.0000,   0.0000,   0.0000,\n",
      "           0.0000,   0.0000,   0.0000,   0.0000,   0.0000,   0.0000,   0.0000,\n",
      "           0.0000,   0.0000, 102.4000, 204.8000],\n",
      "        [204.8000, 102.4000,   0.0000,   0.0000,   0.0000,   0.0000,   0.0000,\n",
      "           0.0000,   0.0000,   0.0000,   0.0000,   0.0000,   0.0000,   0.0000,\n",
      "           0.0000,   0.0000,   0.0000,   0.0000,   0.0000,   0.0000,   0.0000,\n",
      "           0.0000,   0.0000, 102.4000, 204.8000],\n",
      "        [204.8000, 102.4000,   0.0000,   0.0000,   0.0000,   0.0000,   0.0000,\n",
      "           0.0000,   0.0000,   0.0000,   0.0000,   0.0000,   0.0000,   0.0000,\n",
      "           0.0000,   0.0000,   0.0000,   0.0000,   0.0000,   0.0000,   0.0000,\n",
      "           0.0000,   0.0000, 102.4000, 204.8000],\n",
      "        [204.8000, 102.4000,   0.0000,   0.0000,   0.0000,   0.0000,   0.0000,\n",
      "           0.0000,   0.0000,   0.0000,   0.0000,   0.0000,   0.0000,   0.0000,\n",
      "           0.0000,   0.0000,   0.0000,   0.0000,   0.0000,   0.0000,   0.0000,\n",
      "           0.0000,   0.0000, 102.4000, 204.8000],\n",
      "        [204.8000, 102.4000,   0.0000,   0.0000,   0.0000,   0.0000,   0.0000,\n",
      "           0.0000,   0.0000,   0.0000,   0.0000,   0.0000,   0.0000,   0.0000,\n",
      "           0.0000,   0.0000,   0.0000,   0.0000,   0.0000,   0.0000,   0.0000,\n",
      "           0.0000,   0.0000, 102.4000, 204.8000],\n",
      "        [204.8000, 102.4000,   0.0000,   0.0000,   0.0000,   0.0000,   0.0000,\n",
      "           0.0000,   0.0000,   0.0000,   0.0000,   0.0000,   0.0000,   0.0000,\n",
      "           0.0000,   0.0000,   0.0000,   0.0000,   0.0000,   0.0000,   0.0000,\n",
      "           0.0000,   0.0000, 102.4000, 204.8000],\n",
      "        [204.8000, 102.4000,   0.0000,   0.0000,   0.0000,   0.0000,   0.0000,\n",
      "           0.0000,   0.0000,   0.0000,   0.0000,   0.0000,   0.0000,   0.0000,\n",
      "           0.0000,   0.0000,   0.0000,   0.0000,   0.0000,   0.0000,   0.0000,\n",
      "           0.0000,   0.0000, 102.4000, 204.8000],\n",
      "        [204.8000, 102.4000,   0.0000,   0.0000,   0.0000,   0.0000,   0.0000,\n",
      "           0.0000,   0.0000,   0.0000,   0.0000,   0.0000,   0.0000,   0.0000,\n",
      "           0.0000,   0.0000,   0.0000,   0.0000,   0.0000,   0.0000,   0.0000,\n",
      "           0.0000,   0.0000, 102.4000, 204.8000],\n",
      "        [204.8000, 102.4000,   0.0000,   0.0000,   0.0000,   0.0000,   0.0000,\n",
      "           0.0000,   0.0000,   0.0000,   0.0000,   0.0000,   0.0000,   0.0000,\n",
      "           0.0000,   0.0000,   0.0000,   0.0000,   0.0000,   0.0000,   0.0000,\n",
      "           0.0000,   0.0000, 102.4000, 204.8000],\n",
      "        [204.8000, 102.4000,   0.0000,   0.0000,   0.0000,   0.0000,   0.0000,\n",
      "           0.0000,   0.0000,   0.0000,   0.0000,   0.0000,   0.0000,   0.0000,\n",
      "           0.0000,   0.0000,   0.0000,   0.0000,   0.0000,   0.0000,   0.0000,\n",
      "           0.0000,   0.0000, 102.4000, 204.8000],\n",
      "        [204.8000, 102.4000,   0.0000,   0.0000,   0.0000,   0.0000,   0.0000,\n",
      "           0.0000,   0.0000,   0.0000,   0.0000,   0.0000,   0.0000,   0.0000,\n",
      "           0.0000,   0.0000,   0.0000,   0.0000,   0.0000,   0.0000,   0.0000,\n",
      "           0.0000,   0.0000, 102.4000, 204.8000],\n",
      "        [204.8000, 102.4000,   0.0000,   0.0000,   0.0000,   0.0000,   0.0000,\n",
      "           0.0000,   0.0000,   0.0000,   0.0000,   0.0000,   0.0000,   0.0000,\n",
      "           0.0000,   0.0000,   0.0000,   0.0000,   0.0000,   0.0000,   0.0000,\n",
      "           0.0000,   0.0000, 102.4000, 204.8000],\n",
      "        [204.8000, 102.4000,   0.0000,   0.0000,   0.0000,   0.0000,   0.0000,\n",
      "           0.0000,   0.0000,   0.0000,   0.0000,   0.0000,   0.0000,   0.0000,\n",
      "           0.0000,   0.0000,   0.0000,   0.0000,   0.0000,   0.0000,   0.0000,\n",
      "           0.0000,   0.0000, 102.4000, 204.8000],\n",
      "        [204.8000, 102.4000,   0.0000,   0.0000,   0.0000,   0.0000,   0.0000,\n",
      "           0.0000,   0.0000,   0.0000,   0.0000,   0.0000,   0.0000,   0.0000,\n",
      "           0.0000,   0.0000,   0.0000,   0.0000,   0.0000,   0.0000,   0.0000,\n",
      "           0.0000,   0.0000, 102.4000, 204.8000],\n",
      "        [204.8000, 102.4000,   0.0000,   0.0000,   0.0000,   0.0000,   0.0000,\n",
      "           0.0000,   0.0000,   0.0000,   0.0000,   0.0000,   0.0000,   0.0000,\n",
      "           0.0000,   0.0000,   0.0000,   0.0000,   0.0000,   0.0000,   0.0000,\n",
      "           0.0000,   0.0000, 102.4000, 204.8000],\n",
      "        [204.8000, 102.4000,   0.0000,   0.0000,   0.0000,   0.0000,   0.0000,\n",
      "           0.0000,   0.0000,   0.0000,   0.0000,   0.0000,   0.0000,   0.0000,\n",
      "           0.0000,   0.0000,   0.0000,   0.0000,   0.0000,   0.0000,   0.0000,\n",
      "           0.0000,   0.0000, 102.4000, 204.8000],\n",
      "        [204.8000, 102.4000,   0.0000,   0.0000,   0.0000,   0.0000,   0.0000,\n",
      "           0.0000,   0.0000,   0.0000,   0.0000,   0.0000,   0.0000,   0.0000,\n",
      "           0.0000,   0.0000,   0.0000,   0.0000,   0.0000,   0.0000,   0.0000,\n",
      "           0.0000,   0.0000, 102.4000, 204.8000],\n",
      "        [204.8000, 102.4000,   0.0000,   0.0000,   0.0000,   0.0000,   0.0000,\n",
      "           0.0000,   0.0000,   0.0000,   0.0000,   0.0000,   0.0000,   0.0000,\n",
      "           0.0000,   0.0000,   0.0000,   0.0000,   0.0000,   0.0000,   0.0000,\n",
      "           0.0000,   0.0000, 102.4000, 204.8000],\n",
      "        [204.8000, 102.4000, 102.4000, 102.4000, 102.4000, 102.4000, 102.4000,\n",
      "         102.4000, 102.4000, 102.4000, 102.4000, 102.4000, 102.4000, 102.4000,\n",
      "         102.4000, 102.4000, 102.4000, 102.4000, 102.4000, 102.4000, 102.4000,\n",
      "         102.4000, 102.4000, 102.4000, 204.8000],\n",
      "        [204.8000, 204.8000, 204.8000, 204.8000, 204.8000, 204.8000, 204.8000,\n",
      "         204.8000, 204.8000, 204.8000, 204.8000, 204.8000, 204.8000, 204.8000,\n",
      "         204.8000, 204.8000, 204.8000, 204.8000, 204.8000, 204.8000, 204.8000,\n",
      "         204.8000, 204.8000, 204.8000, 204.8000]], device='cuda:0')\n"
     ]
    },
    {
     "data": {
      "text/plain": [
       "<matplotlib.colorbar.Colorbar at 0x7f245f21f8b0>"
      ]
     },
     "execution_count": 13,
     "metadata": {},
     "output_type": "execute_result"
    },
    {
     "data": {
      "image/png": "[encoded data removed]",
      "text/plain": [
       "<Figure size 432x288 with 2 Axes>"
      ]
     },
     "metadata": {
      "needs_background": "light"
     },
     "output_type": "display_data"
    }
   ],
   "source": [
    "print(sigma2)\n",
    "plt.imshow(sigma2.detach().cpu().numpy(), cmap='viridis', interpolation='none')\n",
    "plt.colorbar()"
   ]
  },
  {
   "cell_type": "markdown",
   "metadata": {},
   "source": [
    "#### ML"
   ]
  },
  {
   "cell_type": "code",
   "execution_count": 14,
   "metadata": {},
   "outputs": [],
   "source": [
    "ML = torch.ones((1, 1, xysize, xysize), dtype=torch.float64)"
   ]
  },
  {
   "cell_type": "code",
   "execution_count": 15,
   "metadata": {},
   "outputs": [
    {
     "data": {
      "text/plain": [
       "<matplotlib.colorbar.Colorbar at 0x7f245cab7d60>"
      ]
     },
     "execution_count": 15,
     "metadata": {},
     "output_type": "execute_result"
    },
    {
     "data": {
      "image/png": "[encoded data removed]",
      "text/plain": [
       "<Figure size 432x288 with 2 Axes>"
      ]
     },
     "metadata": {
      "needs_background": "light"
     },
     "output_type": "display_data"
    }
   ],
   "source": [
    "plt.imshow((ML/ML)[0][0].detach().cpu().numpy(), cmap='viridis', interpolation='none')\n",
    "plt.colorbar()"
   ]
  },
  {
   "cell_type": "markdown",
   "metadata": {},
   "source": [
    "### Define NN Model"
   ]
  },
  {
   "cell_type": "markdown",
   "metadata": {},
   "source": [
    "#### one time step - skipping layers"
   ]
  },
  {
   "cell_type": "code",
   "execution_count": 16,
   "metadata": {},
   "outputs": [],
   "source": [
    "class AI4WaveNeuralNetwork_One_Skipping(nn.Module):\n",
    "    def __init__(self, xysize, filter_weight):\n",
    "        super(AI4WaveNeuralNetwork_One_Skipping, self).__init__()\n",
    "\n",
    "        # Specify the size of the input (batch_size, channels, height, width)\n",
    "        in_channels = 1\n",
    "\n",
    "        # Specify the size of the filter/kernel\n",
    "        kernel_size = filter_weight.shape[2]\n",
    "        padding = (kernel_size - 1) // 2\n",
    "\n",
    "        # Create a Conv2d layer with the specified weight, input size, and padding\n",
    "        self.conv_layer = nn.Conv2d(in_channels, out_channels=1, kernel_size=kernel_size, padding=padding, bias=False)\n",
    "        self.conv_layer.weight.data = filter_weight\n",
    "\n",
    "        self.xysize = xysize\n",
    "\n",
    "    def forward(self, status_tn, status_tn_1, c_value, sigma2_inv):\n",
    "        output_list = [status_tn]\n",
    "\n",
    "        c = torch.zeros((self.xysize, self.xysize), device=device)\n",
    "        for i in range(c_value.shape[0]):\n",
    "            ones = torch.zeros((self.xysize, self.xysize), device=device)\n",
    "            ones[i*int(self.xysize/c_value.shape[0]):(i+1)*int(self.xysize/c_value.shape[0])] = 1\n",
    "            c += ones * c_value[i]\n",
    "\n",
    "        # Calculate status_tn1 based on the provided expression\n",
    "        c_status_tn = c * status_tn\n",
    "        conv_term = self.conv_layer(c_status_tn.view(1, self.xysize, self.xysize)) + c * self.conv_layer(status_tn) - status_tn * self.conv_layer(c.view(1, self.xysize, self.xysize))\n",
    "        \n",
    "        status_tn1 = (2 * status_tn - status_tn_1) - (conv_term) * (0.1 * 0.1) / 2\n",
    "        \n",
    "        output_list.append(status_tn1)\n",
    "\n",
    "        output_stacked = torch.cat(output_list, dim=1)\n",
    "\n",
    "        return output_stacked"
   ]
  },
  {
   "cell_type": "markdown",
   "metadata": {},
   "source": [
    "#### multi time step - skipping layers 10 C values"
   ]
  },
  {
   "cell_type": "code",
   "execution_count": 17,
   "metadata": {},
   "outputs": [],
   "source": [
    "class ConstantCValueLayer(nn.Module):\n",
    "    def __init__(self, xysize):\n",
    "        super(ConstantCValueLayer, self).__init__()\n",
    "        self.xysize = xysize\n",
    "\n",
    "    def forward(self, c_value):\n",
    "        c_value.retain_grad()\n",
    "        c = torch.full((self.xysize, self.xysize), c_value.item(), device=device, requires_grad=True)\n",
    "        return c"
   ]
  },
  {
   "cell_type": "code",
   "execution_count": 18,
   "metadata": {},
   "outputs": [],
   "source": [
    "class AI4WaveNeuralNetwork_Multi_Skipping(nn.Module):\n",
    "    def __init__(self, xysize, filter_weight):\n",
    "        super(AI4WaveNeuralNetwork_Multi_Skipping, self).__init__()\n",
    "\n",
    "        # Specify the size of the input (batch_size, channels, height, width)\n",
    "        in_channels = 1\n",
    "\n",
    "        # Specify the size of the filter/kernel\n",
    "        kernel_size = filter_weight.shape[2]\n",
    "        padding = (kernel_size - 1) // 2\n",
    "\n",
    "        # Create a Conv2d layer with the specified weight, input size, and padding\n",
    "        self.conv_layer = nn.Conv2d(in_channels, out_channels=1, kernel_size=kernel_size, padding=padding, bias=False)\n",
    "        self.conv_layer.weight.data = filter_weight\n",
    "\n",
    "        self.constant_layer = ConstantCValueLayer(xysize)\n",
    "\n",
    "        self.xysize = xysize\n",
    "\n",
    "    def forward(self, status_tn, status_tn_1, c_value, sigma2_inv, nsteps):\n",
    "        output_list = [status_tn_1, status_tn]\n",
    "\n",
    "        c = torch.zeros((self.xysize, self.xysize), device=device)\n",
    "        for i in range(c_value.shape[0]):\n",
    "            ones = torch.zeros((self.xysize, self.xysize), device=device)\n",
    "            ones[i*int(self.xysize/c_value.shape[0]):(i+1)*int(self.xysize/c_value.shape[0])] = 1\n",
    "            c += ones * c_value[i]\n",
    "\n",
    "        for i in range(nsteps):\n",
    "            # Calculate status_tn1 based on the provided expression\n",
    "            c_status_tn = c * status_tn\n",
    "            conv_term = self.conv_layer(c_status_tn.view(1, self.xysize, self.xysize)) + c * self.conv_layer(status_tn) - status_tn * self.conv_layer(c.view(1, self.xysize, self.xysize))\n",
    "            \n",
    "            status_tn1 = (2 * status_tn - status_tn_1) - (conv_term) * (0.1 * 0.1) / 2\n",
    "            \n",
    "            output_list.append(status_tn1)\n",
    "\n",
    "            status_tn_1 = status_tn\n",
    "            status_tn = status_tn1\n",
    "\n",
    "        output_stacked = torch.cat(output_list, dim=1)\n",
    "\n",
    "        return output_stacked"
   ]
  },
  {
   "cell_type": "code",
   "execution_count": 19,
   "metadata": {},
   "outputs": [
    {
     "data": {
      "image/png": "[encoded data removed]",
      "text/plain": [
       "<Figure size 432x288 with 2 Axes>"
      ]
     },
     "metadata": {
      "needs_background": "light"
     },
     "output_type": "display_data"
    }
   ],
   "source": [
    "a = 0.5  # lower bound\n",
    "b = 3  # upper bound\n",
    "vec = a + (b - a) * torch.rand(5, requires_grad=True, dtype=torch.float64, device=device)\n",
    "\n",
    "c = torch.zeros((25, 25), device='cuda:0', dtype=torch.float64)\n",
    "\n",
    "for i in range(5):\n",
    "    ones = torch.zeros((25, 25), device='cuda:0', dtype=torch.float64)\n",
    "    ones[i*5:(i+1)*5] = 1\n",
    "    c += ones * vec[i]\n",
    "\n",
    "\n",
    "plt.imshow(c.cpu().detach().numpy())  # Display the matrix as an image\n",
    "plt.colorbar()  # Optionally, display a colorbar\n",
    "plt.show()"
   ]
  },
  {
   "cell_type": "markdown",
   "metadata": {},
   "source": [
    "### Data assimilation one timestep - skipping layers"
   ]
  },
  {
   "cell_type": "markdown",
   "metadata": {},
   "source": [
    "#### Generate Obs"
   ]
  },
  {
   "cell_type": "code",
   "execution_count": 20,
   "metadata": {},
   "outputs": [
    {
     "data": {
      "image/png": "[encoded data removed]",
      "text/plain": [
       "<Figure size 432x288 with 2 Axes>"
      ]
     },
     "metadata": {
      "needs_background": "light"
     },
     "output_type": "display_data"
    },
    {
     "data": {
      "image/png": "[encoded data removed]",
      "text/plain": [
       "<Figure size 1440x288 with 3 Axes>"
      ]
     },
     "metadata": {
      "needs_background": "light"
     },
     "output_type": "display_data"
    },
    {
     "data": {
      "image/png": "[encoded data removed]",
      "text/plain": [
       "<Figure size 1440x288 with 3 Axes>"
      ]
     },
     "metadata": {
      "needs_background": "light"
     },
     "output_type": "display_data"
    },
    {
     "data": {
      "image/png": "[encoded data removed]",
      "text/plain": [
       "<Figure size 1440x288 with 3 Axes>"
      ]
     },
     "metadata": {
      "needs_background": "light"
     },
     "output_type": "display_data"
    },
    {
     "name": "stdout",
     "output_type": "stream",
     "text": [
      "torch.Size([1, 7, 125, 125])\n"
     ]
    }
   ],
   "source": [
    "# Specify the size of the tensor\n",
    "xysize = 125\n",
    "\n",
    "timesteps = 5    # 300\n",
    "\n",
    "# C values\n",
    "C_values_list = [5, 6, 7, 8, 9]\n",
    "# C_values_list = [1, 1, 1, 1, 1]\n",
    "c_tensor = torch.tensor(C_values_list, dtype=torch.float32, device=device, requires_grad=True)\n",
    "\n",
    "nlayers = c_tensor.size(0)\n",
    "\n",
    "# Plot C\n",
    "c = torch.zeros((xysize, xysize), device=device, dtype=torch.float32)\n",
    "\n",
    "for i in range(nlayers):\n",
    "    ones = torch.zeros((xysize, xysize), device=device, dtype=torch.float32)\n",
    "    ones[i*int(xysize/nlayers):(i+1)*int(xysize/nlayers)] = 1\n",
    "    c += ones * c_tensor[i]\n",
    "\n",
    "plt.imshow(c.cpu().detach().numpy(), cmap='viridis')\n",
    "plt.colorbar()\n",
    "plt.title('C Values - Ground Truth')\n",
    "plt.show()\n",
    "\n",
    "# Create a meshgrid\n",
    "x_values = np.linspace(0, 1, xysize)\n",
    "y_values = np.linspace(0, 1, xysize)\n",
    "x, y = np.meshgrid(x_values, y_values)\n",
    "\n",
    "# Convert NumPy arrays to PyTorch tensors with float type\n",
    "x_tensor = torch.tensor(x, dtype=torch.float32)\n",
    "y_tensor = torch.tensor(y, dtype=torch.float32)\n",
    "\n",
    "# Equation parameters\n",
    "sqrt2 = np.sqrt(2)\n",
    "pi = np.pi\n",
    "\n",
    "# Define the time tensors for t = 0, 1, and 2\n",
    "time_tensor_t0 = torch.tensor(0, dtype=torch.float32)\n",
    "time_tensor_t1 = torch.tensor(1, dtype=torch.float32)\n",
    "\n",
    "# Function to create 2D Gaussian distribution\n",
    "def gaussian2d(x, y, mu_x, mu_y, sigma_x, sigma_y):\n",
    "    exponent = -((x - mu_x)**2 / (2 * sigma_x**2) + (y - mu_y)**2 / (2 * sigma_y**2))\n",
    "    return torch.exp(exponent)\n",
    "\n",
    "# Parameters for Gaussian distributions\n",
    "mu_x = 0.5\n",
    "mu_y = 0.5\n",
    "sigma_x = 0.005\n",
    "sigma_y = 0.005\n",
    "\n",
    "# Evaluate the Gaussian distributions at t = 0, 1, and 2\n",
    "t0_values = gaussian2d(x_tensor, y_tensor, mu_x, mu_y, sigma_x, sigma_y)\n",
    "t1_values = gaussian2d(x_tensor, y_tensor, mu_x, mu_y, sigma_x, sigma_y) * torch.cos(time_tensor_t1)\n",
    "\n",
    "# Stack the tensors along a new dimension to create 3D tensors\n",
    "status_t0 = t0_values\n",
    "status_t1 = t1_values\n",
    "\n",
    "filter_weight = filter.view(1, 1, filter.shape[0], filter.shape[1]).to(device)  # Assuming filter is a 2D filter\n",
    "\n",
    "mymodel_multi = AI4WaveNeuralNetwork_Multi_Skipping(xysize, filter_weight)\n",
    "\n",
    "status_t0_tensor = status_t0.view(1, 1, xysize, xysize).to(device)\n",
    "\n",
    "# Perform a forward pass using AI4WaveNeuralNetwork\n",
    "status_t1_tensor = status_t1.view(1, 1, xysize, xysize).to(device)\n",
    "\n",
    "# Initial Status (t = 0)\n",
    "fig, axs = plt.subplots(1, 2, figsize=(20, 4))  # Create 2 subplots side by side\n",
    "\n",
    "# Plot the image on the first subplot\n",
    "im = axs[0].imshow(status_t0.cpu().detach().numpy(), cmap='viridis')\n",
    "fig.colorbar(im, ax=axs[0])\n",
    "axs[0].set_title(\"Initial Status (t = 0)\")\n",
    "\n",
    "# Plot the vertical profile on the second subplot\n",
    "vertical_profile = status_t0.cpu().detach().numpy()[xysize//2, :]  # Take the middle row\n",
    "axs[1].plot(vertical_profile)\n",
    "axs[1].set_title(\"Vertical profile at t = 0\")\n",
    "\n",
    "plt.show()\n",
    "\n",
    "# Initial Status (t = 1)\n",
    "fig, axs = plt.subplots(1, 2, figsize=(20, 4))  # Create 2 subplots side by side\n",
    "\n",
    "# Plot the image on the first subplot\n",
    "im = axs[0].imshow(status_t1.cpu().detach().numpy(), cmap='viridis')\n",
    "fig.colorbar(im, ax=axs[0])\n",
    "axs[0].set_title(\"Initial Status (t = 1)\")\n",
    "\n",
    "# Plot the vertical profile on the second subplot\n",
    "vertical_profile = status_t1.cpu().detach().numpy()[xysize//2, :]  # Take the middle row\n",
    "axs[1].plot(vertical_profile)\n",
    "axs[1].set_title(\"Vertical profile at t = 1\")\n",
    "\n",
    "plt.show()\n",
    "\n",
    "output_tensor_obs = mymodel_multi(status_t1_tensor, status_t0_tensor, c_tensor, sigma2, nsteps = timesteps)\n",
    "\n",
    "for i in range(timesteps):\n",
    "    if (i) % 5 == 0:\n",
    "        fig, axs = plt.subplots(1, 2, figsize=(20, 4))  # Create 2 subplots side by side\n",
    "\n",
    "        # Plot the image on the first subplot\n",
    "        im = axs[0].imshow(output_tensor_obs.cpu().detach().numpy()[0][i+2], cmap='viridis')\n",
    "        fig.colorbar(im, ax=axs[0])\n",
    "        axs[0].set_title(f\"Status at t = {i+2}\")\n",
    "\n",
    "        # Plot the vertical profile on the second subplot\n",
    "        vertical_profile = output_tensor_obs.cpu().detach().numpy()[0][i+2][xysize//2, :]  # Take the middle row\n",
    "        axs[1].plot(vertical_profile)\n",
    "        axs[1].set_title(f\"Vertical profile at t = {i+2}\")\n",
    "\n",
    "        plt.show()\n",
    "\n",
    "print(output_tensor_obs.shape)"
   ]
  },
  {
   "cell_type": "code",
   "execution_count": 21,
   "metadata": {},
   "outputs": [
    {
     "name": "stdout",
     "output_type": "stream",
     "text": [
      "torch.Size([7, 125, 125])\n"
     ]
    }
   ],
   "source": [
    "Status_List_stacked_obs = output_tensor_obs.squeeze(0)\n",
    "print(Status_List_stacked_obs.shape)"
   ]
  },
  {
   "cell_type": "code",
   "execution_count": 22,
   "metadata": {},
   "outputs": [],
   "source": [
    "from torchviz import make_dot"
   ]
  },
  {
   "cell_type": "code",
   "execution_count": 23,
   "metadata": {},
   "outputs": [],
   "source": [
    "# Visualize the computational graph\n",
    "dot = make_dot(Status_List_stacked_obs, params={'c_values': c_tensor})"
   ]
  },
  {
   "cell_type": "code",
   "execution_count": 24,
   "metadata": {},
   "outputs": [
    {
     "data": {
      "text/plain": [
       "'graph_obs.pdf'"
      ]
     },
     "execution_count": 24,
     "metadata": {},
     "output_type": "execute_result"
    }
   ],
   "source": [
    "dot.render(filename='graph_obs', format='pdf')"
   ]
  },
  {
   "cell_type": "code",
   "execution_count": 25,
   "metadata": {},
   "outputs": [
    {
     "data": {
      "text/plain": [
       "'graph.pdf'"
      ]
     },
     "execution_count": 25,
     "metadata": {},
     "output_type": "execute_result"
    }
   ],
   "source": [
    "# Assume x is your input tensor and y is your output tensor\n",
    "x = torch.randn(10, requires_grad=True)\n",
    "y = x * 2\n",
    "\n",
    "# Visualize the computational graph\n",
    "dot = make_dot(y, params={'x': x})\n",
    "dot.render(filename='graph')"
   ]
  },
  {
   "cell_type": "markdown",
   "metadata": {},
   "source": [
    "#### Bigger model result"
   ]
  },
  {
   "cell_type": "code",
   "execution_count": 26,
   "metadata": {},
   "outputs": [
    {
     "name": "stdout",
     "output_type": "stream",
     "text": [
      "None\n",
      "epochs: 0\n",
      "9.088296792469919e-06\n",
      "tensor([ 0.0000e+00,  3.6177e-25, -4.3499e-06,  3.6095e-25,  0.0000e+00],\n",
      "       device='cuda:0')\n"
     ]
    }
   ],
   "source": [
    "mse_loss = nn.MSELoss()\n",
    "\n",
    "\n",
    "### faster version\n",
    "\n",
    "\n",
    "# C guess\n",
    "C_guess_value = 3.0\n",
    "c_forward1 = torch.tensor([C_guess_value]*5, dtype=torch.float32, device=device, requires_grad=True)\n",
    "\n",
    "# lr = 0.1\n",
    "lr = 0.1\n",
    "\n",
    "\n",
    "\n",
    "# Use Adam optimizer\n",
    "c_values = [c_forward1.tolist()]\n",
    "\n",
    "losses = []\n",
    "epochs = 1\n",
    "\n",
    "# Move clone operation outside the loop\n",
    "Obs_sensor_3d_array = Status_List_stacked_obs.clone()\n",
    "\n",
    "for n in range(epochs):\n",
    "    print(c_forward1.grad)\n",
    "    if n % 100 == 0:  # Print every 100 epochs\n",
    "        print('epochs:', n)\n",
    "    # optimizer.zero_grad()\n",
    "    output_tensor_forward1 = mymodel_multi(status_t1_tensor, status_t0_tensor, c_forward1, sigma2, nsteps = timesteps)\n",
    "    Status_List_stacked_forward1 = output_tensor_forward1.squeeze(0)\n",
    "\n",
    "    # consider the whole domain to calculate loss\n",
    "    loss = mse_loss(Status_List_stacked_forward1, Obs_sensor_3d_array)\n",
    "    print(loss.item())\n",
    "\n",
    "    # Backward pass to calculate gradients\n",
    "    loss.backward(retain_graph=True)\n",
    "\n",
    "    losses.append(loss.item())\n",
    "\n",
    "    print(c_forward1.grad)"
   ]
  },
  {
   "cell_type": "markdown",
   "metadata": {},
   "source": [
    "#### One time forward stepping"
   ]
  },
  {
   "cell_type": "code",
   "execution_count": 28,
   "metadata": {},
   "outputs": [
    {
     "name": "stdout",
     "output_type": "stream",
     "text": [
      "[[ 12  15]\n",
      " [ 21  25]\n",
      " [  3  53]\n",
      " [  7  84]\n",
      " [ 19 121]\n",
      " [ 43   4]\n",
      " [ 48  31]\n",
      " [ 49  74]\n",
      " [ 37  76]\n",
      " [ 31 107]\n",
      " [ 73  14]\n",
      " [ 74  42]\n",
      " [ 55  63]\n",
      " [ 58  84]\n",
      " [ 70 119]\n",
      " [ 91  19]\n",
      " [ 80  40]\n",
      " [ 90  50]\n",
      " [ 93  78]\n",
      " [ 99 117]\n",
      " [119  19]\n",
      " [119  39]\n",
      " [107  50]\n",
      " [101  84]\n",
      " [100 110]]\n"
     ]
    },
    {
     "data": {
      "image/png": "[encoded data removed]",
      "text/plain": [
       "<Figure size 432x432 with 1 Axes>"
      ]
     },
     "metadata": {
      "needs_background": "light"
     },
     "output_type": "display_data"
    }
   ],
   "source": [
    "# Set the seed for reproducibility\n",
    "np.random.seed(0)\n",
    "\n",
    "# Define the size of your domain\n",
    "domain_size = (xysize, xysize)  # Example: xysizexxysize grid\n",
    "\n",
    "n_srata = 5    #  5\n",
    "n_sensors = n_srata * n_srata\n",
    "\n",
    "# Define the number of strata in each dimension\n",
    "strata_size = (n_srata, n_srata)  # Example: 10x10 strata\n",
    "\n",
    "# Calculate the size of each stratum\n",
    "stratum_size = (domain_size[0] // strata_size[0], domain_size[1] // strata_size[1])\n",
    "\n",
    "# Generate random sensor locations within each stratum\n",
    "sensor_indices = np.array([\n",
    "    (np.random.randint(i * stratum_size[0], (i + 1) * stratum_size[0]),\n",
    "     np.random.randint(j * stratum_size[1], (j + 1) * stratum_size[1]))\n",
    "    for i in range(strata_size[0])\n",
    "    for j in range(strata_size[1])\n",
    "])\n",
    "\n",
    "# Plot the domain\n",
    "plt.figure(figsize=(6, 6))\n",
    "plt.xlim(0, domain_size[0])\n",
    "plt.ylim(0, domain_size[1])\n",
    "\n",
    "print(sensor_indices)\n",
    "\n",
    "# Plot the sensor locations\n",
    "plt.scatter(sensor_indices[:, 0], sensor_indices[:, 1], color='red')\n",
    "\n",
    "plt.title('Sensor Locations')\n",
    "plt.xlabel('X')\n",
    "plt.ylabel('Y')\n",
    "plt.grid(True)\n",
    "plt.show()"
   ]
  },
  {
   "cell_type": "code",
   "execution_count": 29,
   "metadata": {},
   "outputs": [
    {
     "ename": "NameError",
     "evalue": "name 'output_tensor' is not defined",
     "output_type": "error",
     "traceback": [
      "\u001b[0;31m---------------------------------------------------------------------------\u001b[0m",
      "\u001b[0;31mNameError\u001b[0m                                 Traceback (most recent call last)",
      "Input \u001b[0;32mIn [29]\u001b[0m, in \u001b[0;36m<cell line: 13>\u001b[0;34m()\u001b[0m\n\u001b[1;32m     10\u001b[0m y_coords \u001b[38;5;241m=\u001b[39m y_coords[\u001b[38;5;28;01mNone\u001b[39;00m, :, \u001b[38;5;28;01mNone\u001b[39;00m]\n\u001b[1;32m     12\u001b[0m \u001b[38;5;66;03m# Index the output and observation tensors at the sensor locations\u001b[39;00m\n\u001b[0;32m---> 13\u001b[0m output_at_sensors \u001b[38;5;241m=\u001b[39m \u001b[43moutput_tensor\u001b[49m[:, x_coords, y_coords]\u001b[38;5;241m.\u001b[39msqueeze()\n\u001b[1;32m     14\u001b[0m obs_at_sensors \u001b[38;5;241m=\u001b[39m Obs_sensor_3d_array[:, x_coords, y_coords]\u001b[38;5;241m.\u001b[39msqueeze()\n\u001b[1;32m     16\u001b[0m \u001b[38;5;66;03m# Now, output_at_sensors and obs_at_sensors should have the shape (302, 25)\u001b[39;00m\n",
      "\u001b[0;31mNameError\u001b[0m: name 'output_tensor' is not defined"
     ]
    }
   ],
   "source": [
    "# Convert sensor_indices to a PyTorch tensor\n",
    "sensor_indices = torch.tensor(sensor_indices)\n",
    "\n",
    "# Separate the x and y coordinates\n",
    "x_coords = sensor_indices[:, 0]\n",
    "y_coords = sensor_indices[:, 1]\n",
    "\n",
    "# Use broadcasting to create a grid of indices\n",
    "x_coords = x_coords[None, :, None]\n",
    "y_coords = y_coords[None, :, None]\n",
    "\n",
    "# Index the output and observation tensors at the sensor locations\n",
    "output_at_sensors = output_tensor[:, x_coords, y_coords].squeeze()\n",
    "obs_at_sensors = Obs_sensor_3d_array[:, x_coords, y_coords].squeeze()\n",
    "\n",
    "# Now, output_at_sensors and obs_at_sensors should have the shape (302, 25)\n",
    "print(output_at_sensors.shape)\n",
    "print(obs_at_sensors.shape)"
   ]
  },
  {
   "cell_type": "code",
   "execution_count": 91,
   "metadata": {},
   "outputs": [
    {
     "data": {
      "text/html": [
       "Finishing last run (ID:2is1tqha) before initializing another..."
      ],
      "text/plain": [
       "<IPython.core.display.HTML object>"
      ]
     },
     "metadata": {},
     "output_type": "display_data"
    },
    {
     "data": {
      "text/html": [
       "Waiting for W&B process to finish... <strong style=\"color:green\">(success).</strong>"
      ],
      "text/plain": [
       "<IPython.core.display.HTML object>"
      ]
     },
     "metadata": {},
     "output_type": "display_data"
    },
    {
     "data": {
      "text/html": [
       "<style>\n",
       "    table.wandb td:nth-child(1) { padding: 0 10px; text-align: left ; width: auto;} td:nth-child(2) {text-align: left ; width: 100%}\n",
       "    .wandb-row { display: flex; flex-direction: row; flex-wrap: wrap; justify-content: flex-start; width: 100% }\n",
       "    .wandb-col { display: flex; flex-direction: column; flex-basis: 100%; flex: 1; padding: 10px; }\n",
       "    </style>\n",
       "<div class=\"wandb-row\"><div class=\"wandb-col\"><h3>Run history:</h3><br/><table class=\"wandb\"><tr><td>c_value_1</td><td>▁▂▂▃▄▅▆███▇▇▆▅▅▆▆▅▅▅▅▅▅▅▅▅▅▅▅▅▅▅▅▅▅▅▅▅▅▅</td></tr><tr><td>c_value_2</td><td>▁▁▂▃▄▅▆▇███▇▇▆▆▇▇▇▇▇▇▇▇▇▇▇▇▇▇▇▇▇▇▇▇▇▇▇▇▇</td></tr><tr><td>c_value_3</td><td>▁▁▂▃▄▄▅▆▇▇███████▇██████████████████████</td></tr><tr><td>c_value_4</td><td>▁▁▁▁▁▂▂▃▃▄▄▄▅▆▆▇███▇▇▇▇▇▇▇▇▇▇▇▇▇▇▇▇▇▇▇▇▇</td></tr><tr><td>c_value_5</td><td>▁▁▂▂▂▃▃▃▃▄▄▄▄▅▆▆▇██▇▇███████████████████</td></tr><tr><td>loss</td><td>██▇▇▆▆▅▄▄▃▃▃▂▂▂▂▁▁▁▁▁▁▁▁▁▁▁▁▁▁▁▁▁▁▁▁▁▁▁▁</td></tr></table><br/></div><div class=\"wandb-col\"><h3>Run summary:</h3><br/><table class=\"wandb\"><tr><td>c_value_1</td><td>5.00374</td></tr><tr><td>c_value_2</td><td>5.99918</td></tr><tr><td>c_value_3</td><td>7.00059</td></tr><tr><td>c_value_4</td><td>8.00146</td></tr><tr><td>c_value_5</td><td>8.99807</td></tr><tr><td>loss</td><td>0.0</td></tr></table><br/></div></div>"
      ],
      "text/plain": [
       "<IPython.core.display.HTML object>"
      ]
     },
     "metadata": {},
     "output_type": "display_data"
    },
    {
     "data": {
      "text/html": [
       "Synced <strong style=\"color:#cdcd00\">obs [5, 6, 7, 8, 9], guess 3.5s, timestep 300 whole domain 125*125, lr0.1, Sensors25</strong>: <a href=\"https://wandb.ai/guodh/wave%20eqn%20-%20more%20C%20values%20small%20model/runs/2is1tqha\" target=\"_blank\">https://wandb.ai/guodh/wave%20eqn%20-%20more%20C%20values%20small%20model/runs/2is1tqha</a><br/>Synced 6 W&B file(s), 0 media file(s), 0 artifact file(s) and 0 other file(s)"
      ],
      "text/plain": [
       "<IPython.core.display.HTML object>"
      ]
     },
     "metadata": {},
     "output_type": "display_data"
    },
    {
     "data": {
      "text/html": [
       "Find logs at: <code>./wandb/run-20240304_134236-2is1tqha/logs</code>"
      ],
      "text/plain": [
       "<IPython.core.display.HTML object>"
      ]
     },
     "metadata": {},
     "output_type": "display_data"
    },
    {
     "data": {
      "text/html": [
       "Successfully finished last run (ID:2is1tqha). Initializing new run:<br/>"
      ],
      "text/plain": [
       "<IPython.core.display.HTML object>"
      ]
     },
     "metadata": {},
     "output_type": "display_data"
    },
    {
     "name": "stderr",
     "output_type": "stream",
     "text": [
      "2024-03-04 13:44:45.327432: I tensorflow/core/util/util.cc:169] oneDNN custom operations are on. You may see slightly different numerical results due to floating-point round-off errors from different computation orders. To turn them off, set the environment variable `TF_ENABLE_ONEDNN_OPTS=0`.\n"
     ]
    },
    {
     "data": {
      "text/html": [
       "wandb version 0.16.3 is available!  To upgrade, please run:\n",
       " $ pip install wandb --upgrade"
      ],
      "text/plain": [
       "<IPython.core.display.HTML object>"
      ]
     },
     "metadata": {},
     "output_type": "display_data"
    },
    {
     "data": {
      "text/html": [
       "Tracking run with wandb version 0.12.16"
      ],
      "text/plain": [
       "<IPython.core.display.HTML object>"
      ]
     },
     "metadata": {},
     "output_type": "display_data"
    },
    {
     "data": {
      "text/html": [
       "Run data is saved locally in <code>/data/dg321/gitTest/PRI/irp/AI4Multiphase/wandb/run-20240304_134439-n0xuxemf</code>"
      ],
      "text/plain": [
       "<IPython.core.display.HTML object>"
      ]
     },
     "metadata": {},
     "output_type": "display_data"
    },
    {
     "data": {
      "text/html": [
       "Syncing run <strong><a href=\"https://wandb.ai/guodh/wave%20eqn%20-%20more%20C%20values%20small%20model/runs/n0xuxemf\" target=\"_blank\">obs [5, 6, 7, 8, 9], guess 3.5s, timestep 300 whole domain 125*125, lr0.1, Sensors15625</a></strong> to <a href=\"https://wandb.ai/guodh/wave%20eqn%20-%20more%20C%20values%20small%20model\" target=\"_blank\">Weights & Biases</a> (<a href=\"https://wandb.me/run\" target=\"_blank\">docs</a>)<br/>"
      ],
      "text/plain": [
       "<IPython.core.display.HTML object>"
      ]
     },
     "metadata": {},
     "output_type": "display_data"
    },
    {
     "name": "stdout",
     "output_type": "stream",
     "text": [
      "epochs: 0\n",
      "epochs: 100\n"
     ]
    },
    {
     "ename": "KeyboardInterrupt",
     "evalue": "",
     "output_type": "error",
     "traceback": [
      "\u001b[0;31m---------------------------------------------------------------------------\u001b[0m",
      "\u001b[0;31mKeyboardInterrupt\u001b[0m                         Traceback (most recent call last)",
      "Input \u001b[0;32mIn [91]\u001b[0m, in \u001b[0;36m<cell line: 26>\u001b[0;34m()\u001b[0m\n\u001b[1;32m     59\u001b[0m loss \u001b[38;5;241m=\u001b[39m mse_loss(output_at_sensors, obs_at_sensors)\n\u001b[1;32m     61\u001b[0m \u001b[38;5;66;03m# Backward pass to calculate gradients\u001b[39;00m\n\u001b[0;32m---> 62\u001b[0m \u001b[43mloss\u001b[49m\u001b[38;5;241;43m.\u001b[39;49m\u001b[43mbackward\u001b[49m\u001b[43m(\u001b[49m\u001b[43mretain_graph\u001b[49m\u001b[38;5;241;43m=\u001b[39;49m\u001b[38;5;28;43;01mTrue\u001b[39;49;00m\u001b[43m)\u001b[49m\n\u001b[1;32m     64\u001b[0m losses\u001b[38;5;241m.\u001b[39mappend(loss\u001b[38;5;241m.\u001b[39mitem())\n\u001b[1;32m     66\u001b[0m \u001b[38;5;66;03m# optimize C\u001b[39;00m\n",
      "File \u001b[0;32m~/anaconda3/envs/icdss/lib/python3.8/site-packages/torch/_tensor.py:363\u001b[0m, in \u001b[0;36mTensor.backward\u001b[0;34m(self, gradient, retain_graph, create_graph, inputs)\u001b[0m\n\u001b[1;32m    354\u001b[0m \u001b[38;5;28;01mif\u001b[39;00m has_torch_function_unary(\u001b[38;5;28mself\u001b[39m):\n\u001b[1;32m    355\u001b[0m     \u001b[38;5;28;01mreturn\u001b[39;00m handle_torch_function(\n\u001b[1;32m    356\u001b[0m         Tensor\u001b[38;5;241m.\u001b[39mbackward,\n\u001b[1;32m    357\u001b[0m         (\u001b[38;5;28mself\u001b[39m,),\n\u001b[0;32m   (...)\u001b[0m\n\u001b[1;32m    361\u001b[0m         create_graph\u001b[38;5;241m=\u001b[39mcreate_graph,\n\u001b[1;32m    362\u001b[0m         inputs\u001b[38;5;241m=\u001b[39minputs)\n\u001b[0;32m--> 363\u001b[0m \u001b[43mtorch\u001b[49m\u001b[38;5;241;43m.\u001b[39;49m\u001b[43mautograd\u001b[49m\u001b[38;5;241;43m.\u001b[39;49m\u001b[43mbackward\u001b[49m\u001b[43m(\u001b[49m\u001b[38;5;28;43mself\u001b[39;49m\u001b[43m,\u001b[49m\u001b[43m \u001b[49m\u001b[43mgradient\u001b[49m\u001b[43m,\u001b[49m\u001b[43m \u001b[49m\u001b[43mretain_graph\u001b[49m\u001b[43m,\u001b[49m\u001b[43m \u001b[49m\u001b[43mcreate_graph\u001b[49m\u001b[43m,\u001b[49m\u001b[43m \u001b[49m\u001b[43minputs\u001b[49m\u001b[38;5;241;43m=\u001b[39;49m\u001b[43minputs\u001b[49m\u001b[43m)\u001b[49m\n",
      "File \u001b[0;32m~/anaconda3/envs/icdss/lib/python3.8/site-packages/torch/autograd/__init__.py:173\u001b[0m, in \u001b[0;36mbackward\u001b[0;34m(tensors, grad_tensors, retain_graph, create_graph, grad_variables, inputs)\u001b[0m\n\u001b[1;32m    168\u001b[0m     retain_graph \u001b[38;5;241m=\u001b[39m create_graph\n\u001b[1;32m    170\u001b[0m \u001b[38;5;66;03m# The reason we repeat same the comment below is that\u001b[39;00m\n\u001b[1;32m    171\u001b[0m \u001b[38;5;66;03m# some Python versions print out the first line of a multi-line function\u001b[39;00m\n\u001b[1;32m    172\u001b[0m \u001b[38;5;66;03m# calls in the traceback and some print out the last line\u001b[39;00m\n\u001b[0;32m--> 173\u001b[0m \u001b[43mVariable\u001b[49m\u001b[38;5;241;43m.\u001b[39;49m\u001b[43m_execution_engine\u001b[49m\u001b[38;5;241;43m.\u001b[39;49m\u001b[43mrun_backward\u001b[49m\u001b[43m(\u001b[49m\u001b[43m  \u001b[49m\u001b[38;5;66;43;03m# Calls into the C++ engine to run the backward pass\u001b[39;49;00m\n\u001b[1;32m    174\u001b[0m \u001b[43m    \u001b[49m\u001b[43mtensors\u001b[49m\u001b[43m,\u001b[49m\u001b[43m \u001b[49m\u001b[43mgrad_tensors_\u001b[49m\u001b[43m,\u001b[49m\u001b[43m \u001b[49m\u001b[43mretain_graph\u001b[49m\u001b[43m,\u001b[49m\u001b[43m \u001b[49m\u001b[43mcreate_graph\u001b[49m\u001b[43m,\u001b[49m\u001b[43m \u001b[49m\u001b[43minputs\u001b[49m\u001b[43m,\u001b[49m\n\u001b[1;32m    175\u001b[0m \u001b[43m    \u001b[49m\u001b[43mallow_unreachable\u001b[49m\u001b[38;5;241;43m=\u001b[39;49m\u001b[38;5;28;43;01mTrue\u001b[39;49;00m\u001b[43m,\u001b[49m\u001b[43m \u001b[49m\u001b[43maccumulate_grad\u001b[49m\u001b[38;5;241;43m=\u001b[39;49m\u001b[38;5;28;43;01mTrue\u001b[39;49;00m\u001b[43m)\u001b[49m\n",
      "\u001b[0;31mKeyboardInterrupt\u001b[0m: "
     ]
    }
   ],
   "source": [
    "mse_loss = nn.MSELoss()\n",
    "\n",
    "# C guess\n",
    "C_guess_value = 3.5\n",
    "c_forward1 = torch.tensor([C_guess_value]*5, dtype=torch.float32, device=device, requires_grad=True)\n",
    "\n",
    "# lr = 0.1\n",
    "lr = 0.1\n",
    "\n",
    "# Start a new run\n",
    "run = wandb.init(project=\"wave eqn - more C values small model\", name = \"obs {}, guess {}s, timestep {} whole domain {}*{}, lr{}, Sensors{}\".format(C_values_list, C_guess_value, timesteps, xysize, xysize, lr, n_sensors))\n",
    "\n",
    "# Use Adam optimizer\n",
    "optimizer = torch.optim.Adam([c_forward1], lr)\n",
    "c_values = [c_forward1.tolist()]\n",
    "\n",
    "losses = []\n",
    "epochs = 300\n",
    "\n",
    "# Move clone operation outside the loop\n",
    "Obs_sensor_3d_array = Status_List_stacked_obs.clone()\n",
    "\n",
    "# Define a single model\n",
    "model = AI4WaveNeuralNetwork_One_Skipping(xysize, filter_weight)\n",
    "\n",
    "for n in range(epochs):\n",
    "    if n % 100 == 0:  # Print every 100 epochs\n",
    "        print('epochs:', n)\n",
    "    optimizer.zero_grad()\n",
    "    # Forward pass through the model\n",
    "    output_list = [status_t0_tensor, status_t1_tensor]\n",
    "    input1 = status_t1_tensor\n",
    "    input2 = status_t0_tensor\n",
    "    for _ in range(timesteps):\n",
    "        output = model(input1, input2, c_forward1, sigma2)\n",
    "        output_list.append(output[:,1:, :, :])\n",
    "        input1 = output[:,1:, :, :]\n",
    "        input2 = output[:,0:1, :, :]\n",
    "\n",
    "    # Concatenate the output list along the time dimension\n",
    "    output_tensor = torch.cat(output_list, dim=1).squeeze(0)\n",
    "\n",
    "    # # Compute the loss\n",
    "    # loss = mse_loss(output_tensor, Obs_sensor_3d_array)\n",
    "\n",
    "    # Index the output tensor at the sensor locations\n",
    "    # print(output_tensor.shape)\n",
    "    # output_at_sensors = output_tensor[:, sensor_indices]\n",
    "    # print(output_at_sensors.shape)\n",
    "\n",
    "    # # Index the observation tensor at the sensor locations\n",
    "    # obs_at_sensors = Obs_sensor_3d_array[:, sensor_indices]\n",
    "\n",
    "    # Index the output and observation tensors at the sensor locations\n",
    "    output_at_sensors = output_tensor[:, x_coords, y_coords].squeeze()\n",
    "    obs_at_sensors = Obs_sensor_3d_array[:, x_coords, y_coords].squeeze()\n",
    "\n",
    "    # Compute the loss\n",
    "    loss = mse_loss(output_at_sensors, obs_at_sensors)\n",
    "\n",
    "    # Backward pass to calculate gradients\n",
    "    loss.backward(retain_graph=True)\n",
    "\n",
    "    losses.append(loss.item())\n",
    "\n",
    "    # optimize C\n",
    "    optimizer.step()\n",
    "    c_values.append(c_forward1.tolist())\n",
    "\n",
    "    # Log the loss and c_value to wandb\n",
    "    log_dict = {\"loss\": loss.item()}\n",
    "    log_dict.update({f\"c_value_{i + 1}\": value for i, value in enumerate(c_forward1.tolist())})\n",
    "    wandb.log(log_dict)\n",
    "\n",
    "plt.figure()\n",
    "plt.plot(losses)\n",
    "plt.title('Loss over epochs')\n",
    "plt.xlabel('Epoch')\n",
    "plt.ylabel('Loss')\n",
    "plt.show()\n",
    "\n",
    "plt.figure()\n",
    "plt.plot(c_values)\n",
    "plt.title('c_values over epochs')\n",
    "plt.xlabel('Epoch')\n",
    "plt.ylabel('c_value')\n",
    "plt.show()"
   ]
  },
  {
   "cell_type": "markdown",
   "metadata": {},
   "source": [
    "#### Visualise computational graph"
   ]
  },
  {
   "cell_type": "code",
   "execution_count": 32,
   "metadata": {},
   "outputs": [
    {
     "name": "stdout",
     "output_type": "stream",
     "text": [
      "epochs: 0\n",
      "1.0926937523206282e-12\n"
     ]
    }
   ],
   "source": [
    "mse_loss = nn.MSELoss()\n",
    "\n",
    "# C guess\n",
    "C_guess_value = 3.5\n",
    "c_forward1 = torch.tensor([C_guess_value]*5, dtype=torch.float32, device=device, requires_grad=True)\n",
    "\n",
    "# lr = 0.1\n",
    "lr = 0.1\n",
    "\n",
    "# Use Adam optimizer\n",
    "optimizer = torch.optim.Adam([c_forward1], lr)\n",
    "c_values = [c_forward1.tolist()]\n",
    "\n",
    "losses = []\n",
    "\n",
    "# Move clone operation outside the loop\n",
    "Obs_sensor_3d_array = Status_List_stacked_obs.clone()\n",
    "\n",
    "# Define a single model\n",
    "model = AI4WaveNeuralNetwork_One_Skipping(xysize, filter_weight)\n",
    "\n",
    "for n in range(1):\n",
    "    if n % 100 == 0:  # Print every 100 epochs\n",
    "        print('epochs:', n)\n",
    "    optimizer.zero_grad()\n",
    "    # Forward pass through the model\n",
    "    output_list = [status_t0_tensor, status_t1_tensor]\n",
    "    input1 = status_t1_tensor\n",
    "    input2 = status_t0_tensor\n",
    "    for _ in range(timesteps):\n",
    "        output = model(input1, input2, c_forward1, sigma2)\n",
    "        output_list.append(output[:,1:, :, :])\n",
    "        input1 = output[:,1:, :, :]\n",
    "        input2 = output[:,0:1, :, :]\n",
    "\n",
    "    # Concatenate the output list along the time dimension\n",
    "    output_tensor = torch.cat(output_list, dim=1).squeeze(0)\n",
    "\n",
    "    # # Compute the loss\n",
    "    # loss = mse_loss(output_tensor, Obs_sensor_3d_array)\n",
    "\n",
    "    # Index the output tensor at the sensor locations\n",
    "    # print(output_tensor.shape)\n",
    "    # output_at_sensors = output_tensor[:, sensor_indices]\n",
    "    # print(output_at_sensors.shape)\n",
    "\n",
    "    # # Index the observation tensor at the sensor locations\n",
    "    # obs_at_sensors = Obs_sensor_3d_array[:, sensor_indices]\n",
    "\n",
    "    # Index the output and observation tensors at the sensor locations\n",
    "    output_at_sensors = output_tensor[:, x_coords, y_coords].squeeze()\n",
    "    obs_at_sensors = Obs_sensor_3d_array[:, x_coords, y_coords].squeeze()\n",
    "\n",
    "    # Compute the loss\n",
    "    loss = mse_loss(output_at_sensors, obs_at_sensors)\n",
    "\n",
    "    print(loss.item())"
   ]
  },
  {
   "cell_type": "code",
   "execution_count": 33,
   "metadata": {},
   "outputs": [
    {
     "data": {
      "text/plain": [
       "'graph_smallmodel.pdf'"
      ]
     },
     "execution_count": 33,
     "metadata": {},
     "output_type": "execute_result"
    }
   ],
   "source": [
    "from torchviz import make_dot\n",
    "\n",
    "# Visualize the computational graph\n",
    "dot = make_dot(loss, params={'c_values': c_forward1})\n",
    "\n",
    "dot.render(filename='graph_smallmodel', format='pdf')"
   ]
  },
  {
   "cell_type": "code",
   "execution_count": null,
   "metadata": {},
   "outputs": [],
   "source": []
  }
 ],
 "metadata": {
  "kernelspec": {
   "display_name": "Python 3",
   "language": "python",
   "name": "python3"
  },
  "language_info": {
   "codemirror_mode": {
    "name": "ipython",
    "version": 3
   },
   "file_extension": ".py",
   "mimetype": "text/x-python",
   "name": "python",
   "nbconvert_exporter": "python",
   "pygments_lexer": "ipython3",
   "version": "3.8.13"
  }
 },
 "nbformat": 4,
 "nbformat_minor": 2
}
